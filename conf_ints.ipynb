{
 "cells": [
  {
   "cell_type": "code",
   "execution_count": null,
   "id": "initial_id",
   "metadata": {
    "collapsed": true
   },
   "outputs": [],
   "source": [
    "import torch\n",
    "import numpy as np\n",
    "from torch.distributions\timport Normal\n",
    "\n",
    "\n",
    "\n",
    "# number of random variables X_i to use to compute each confidence interval\n",
    "n = 100\n",
    "\n",
    "# number of distinct confidence intervals to compute\n",
    "num_exp\t=\t100\n",
    "\n",
    "# level α\n",
    "alpha = 0.1\n",
    "\n",
    "# 1 - α/2 Gaussian quantile used in confidence interval\n",
    "norm_dist\t=\tNormal(0,1)\n",
    "xi\t=\tnorm_dist.cdf(1\t-\talpha\t/\t2)\n",
    "\n",
    "\n",
    "confidence_intervals = []\n",
    "for i\tin\trange(num_exp):\n",
    "    "
   ]
  }
 ],
 "metadata": {
  "kernelspec": {
   "display_name": "Python 3",
   "language": "python",
   "name": "python3"
  },
  "language_info": {
   "codemirror_mode": {
    "name": "ipython",
    "version": 2
   },
   "file_extension": ".py",
   "mimetype": "text/x-python",
   "name": "python",
   "nbconvert_exporter": "python",
   "pygments_lexer": "ipython2",
   "version": "2.7.6"
  }
 },
 "nbformat": 4,
 "nbformat_minor": 5
}
