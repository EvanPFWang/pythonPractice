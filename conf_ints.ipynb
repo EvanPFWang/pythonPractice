{
 "cells": [
  {
   "cell_type": "code",
   "execution_count": null,
   "id": "initial_id",
   "metadata": {
    "collapsed": true,
    "is_executing": true
   },
   "outputs": [],
   "source": [
    "import torch\n",
    "import matplotlib.pyplot as plt\n",
    "from torch.distributions\timport Normal\n",
    "\n",
    "\n",
    "\n",
    "# number of random variables X_i to use to compute each confidence interval\n",
    "n = 100\n",
    "\n",
    "# number of distinct confidence intervals to compute\n",
    "num_exp\t=\t100\n",
    "\n",
    "# level α\n",
    "alpha = 0.1\n",
    "\n",
    "# 1 - α/2 Gaussian quantile used in confidence interval\n",
    "norm_dist\t=\tNormal(0,1)\n",
    "xi\t=\tnorm_dist.cdf(1\t-\talpha\t/\t2)\n",
    "\n",
    "\n",
    "confidence_intervals = []\n",
    "for i\tin\trange(num_exp):\n",
    "    #generate random N(0,1)\n",
    "    data    =   torch.randn(n)\n",
    "    \n",
    "    #compute x~n\n",
    "    mu_hat = torch.mean(data)\n",
    "    \n",
    "    #compute S_n^2\n",
    "    se_hat = torch.std(data,    unbiased=True)#make it unbiased\n",
    "    \n",
    "    #compute interval\n",
    "    epsilon =   xi  *   se_hat  / torch.sqrt(torch.tensor(n))\n",
    "    ci  =   [mu_hat -   epsilon, mu_hat + epsilon]\n",
    "\n",
    "    confidence_intervals.append(ci)\n",
    "num_contained = sum(1 for ci in confidence_intervals if 0 < ci[0] < ci[1])\n",
    "print(f\"True parameter in CI for {num_contained} / {num_experiments} experiments\")\n",
    "\n",
    "fig, ax = plt.subplots(figsize=(4, 6))\n",
    "ax.set_title(f\"n={n}, alpha={alpha}\\n\"\n",
    "             f\"{num_contained}/{num_experiments} contain true μ\\n\")\n",
    "ax.set_xlabel(\"μ\")\n",
    "ax.set_ylabel(\"Experiment number\")\n",
    "ax.axhline(0, color='black', linestyle='--', linewidth=2)\n",
    "ax.set_xlim(-1, 1)\n",
    "\n",
    "for i, ci in enumerate(confidence_intervals):\n",
    "    color = 'blue' if 0 < ci[0] < ci[1] else 'red'\n",
    "    ax.fill_between([i, i], ci, alpha=0.8, color=color, linewidth=2)\n",
    "\n",
    "plt.show()"
   ]
  },
  {
   "cell_type": "code",
   "outputs": [],
   "source": [],
   "metadata": {
    "collapsed": false
   },
   "id": "4cd087afa05e5af3"
  }
 ],
 "metadata": {
  "kernelspec": {
   "display_name": "Python 3",
   "language": "python",
   "name": "python3"
  },
  "language_info": {
   "codemirror_mode": {
    "name": "ipython",
    "version": 2
   },
   "file_extension": ".py",
   "mimetype": "text/x-python",
   "name": "python",
   "nbconvert_exporter": "python",
   "pygments_lexer": "ipython2",
   "version": "2.7.6"
  }
 },
 "nbformat": 4,
 "nbformat_minor": 5
}
