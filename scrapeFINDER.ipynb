{
 "cells": [
  {
   "cell_type": "code",
   "execution_count": null,
   "id": "initial_id",
   "metadata": {
    "collapsed": true
   },
   "outputs": [],
   "source": [
    ""
   ]
  },
  {
   "metadata": {},
   "cell_type": "code",
   "outputs": [],
   "execution_count": null,
   "source": [
    "import tokenize\n",
    "import re\n",
    "from tqdm import tqdm\n",
    "\n",
    "input_path = r\"C:\\Users\\epw268\\Documents\\addinda_text_summ.txt\"\n",
    "output_path = r\"C:\\Users\\epw268\\Documents\\addinda_text_summNEW.txt\"\n",
    "\n",
    "triple_re = re.compile(r'^[urbfURBF]*(?:\"\"\"|\\'\\'\\')')\n",
    "\n",
    "with open(input_path, 'r', encoding='utf-8') as f:\n",
    "    lines = f.readlines()\n",
    "mask = [bytearray(b\"\\x01\" * (len(line))) for line in lines]\n",
    "\n",
    "with open(input_path, 'rb') as f:\n",
    "    tokens = tokenize.tokenize(f.readline)\n",
    "    for tok in tqdm(tokens, desc=\"Scanning tokens\"):\n",
    "        toknum, tokval, start, end, _ = tok\n",
    "        if toknum == tokenize.COMMENT:\n",
    "            line_idx, col = start\n",
    "            for i in range(col, len(lines[line_idx-1])):\n",
    "                mask[line_idx-1][i] = 0\n",
    "        elif toknum == tokenize.STRING and triple_re.match(tokval):\n",
    "            (s_line, s_col), (e_line, e_col) = start, end\n",
    "            for ln in range(s_line-1, e_line):\n",
    "                start_col = s_col if ln == s_line-1 else 0\n",
    "                end_col = e_col if ln == e_line-1 else len(lines[ln])\n",
    "                for i in range(start_col, end_col):\n",
    "                    mask[ln][i] = 0\n",
    "\n",
    "cleaned_lines = []\n",
    "for ln, line in enumerate(lines):\n",
    "    cleaned_line = ''.join(ch for i, ch in enumerate(line) if mask[ln][i])\n",
    "    cleaned_lines.append(cleaned_line)\n",
    "\n",
    "with open(output_path, 'w', encoding='utf-8') as f:\n",
    "    f.writelines(cleaned_lines)"
   ],
   "id": "bc36dd687500c842"
  }
 ],
 "metadata": {
  "kernelspec": {
   "display_name": "Python 3",
   "language": "python",
   "name": "python3"
  },
  "language_info": {
   "codemirror_mode": {
    "name": "ipython",
    "version": 2
   },
   "file_extension": ".py",
   "mimetype": "text/x-python",
   "name": "python",
   "nbconvert_exporter": "python",
   "pygments_lexer": "ipython2",
   "version": "2.7.6"
  }
 },
 "nbformat": 4,
 "nbformat_minor": 5
}
