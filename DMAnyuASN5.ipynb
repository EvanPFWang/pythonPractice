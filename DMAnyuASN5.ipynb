{
  "nbformat": 4,
  "nbformat_minor": 0,
  "metadata": {
    "colab": {
      "provenance": []
    },
    "kernelspec": {
      "name": "python3",
      "display_name": "Python 3"
    },
    "language_info": {
      "name": "python"
    }
  },
  "cells": [
    {
      "cell_type": "markdown",
      "source": [
        "### Presets"
      ],
      "metadata": {
        "id": "KTnlDfR1CQRX"
      }
    },
    {
      "cell_type": "code",
      "execution_count": 1,
      "metadata": {
        "colab": {
          "base_uri": "https://localhost:8080/"
        },
        "id": "H3IN69To9omv",
        "outputId": "55b20d9c-18f2-463b-b505-28ec5f8b4f7a"
      },
      "outputs": [
        {
          "output_type": "stream",
          "name": "stdout",
          "text": [
            "SQLite version: 3.39.4\n"
          ]
        }
      ],
      "source": [
        "import subprocess\n",
        "import google.colab\n",
        "subprocess.run(['pip', 'install', 'pysqlite3-binary'], capture_output=False)\n",
        "import pysqlite3 as sqlite3\n",
        "print(f'SQLite version: {sqlite3.sqlite_version}')"
      ]
    },
    {
      "cell_type": "code",
      "source": [
        "!pip install pandasql"
      ],
      "metadata": {
        "colab": {
          "base_uri": "https://localhost:8080/"
        },
        "id": "Ej2dJp-mClKo",
        "outputId": "94ed32e3-69f0-440d-efc3-0e6f8d0b1107"
      },
      "execution_count": 7,
      "outputs": [
        {
          "output_type": "stream",
          "name": "stdout",
          "text": [
            "Looking in indexes: https://pypi.org/simple, https://us-python.pkg.dev/colab-wheels/public/simple/\n",
            "Collecting pandasql\n",
            "  Downloading pandasql-0.7.3.tar.gz (26 kB)\n",
            "Requirement already satisfied: numpy in /usr/local/lib/python3.8/dist-packages (from pandasql) (1.21.6)\n",
            "Requirement already satisfied: pandas in /usr/local/lib/python3.8/dist-packages (from pandasql) (1.3.5)\n",
            "Requirement already satisfied: sqlalchemy in /usr/local/lib/python3.8/dist-packages (from pandasql) (1.4.44)\n",
            "Requirement already satisfied: python-dateutil>=2.7.3 in /usr/local/lib/python3.8/dist-packages (from pandas->pandasql) (2.8.2)\n",
            "Requirement already satisfied: pytz>=2017.3 in /usr/local/lib/python3.8/dist-packages (from pandas->pandasql) (2022.6)\n",
            "Requirement already satisfied: six>=1.5 in /usr/local/lib/python3.8/dist-packages (from python-dateutil>=2.7.3->pandas->pandasql) (1.15.0)\n",
            "Requirement already satisfied: greenlet!=0.4.17 in /usr/local/lib/python3.8/dist-packages (from sqlalchemy->pandasql) (2.0.1)\n",
            "Building wheels for collected packages: pandasql\n",
            "  Building wheel for pandasql (setup.py) ... \u001b[?25l\u001b[?25hdone\n",
            "  Created wheel for pandasql: filename=pandasql-0.7.3-py3-none-any.whl size=26787 sha256=e6980adec5ea075ac92cab6eaa53df8ee3b128f2b5e52a1799140b8fc4e5969b\n",
            "  Stored in directory: /root/.cache/pip/wheels/ed/8f/46/a383923333728744f01ba24adbd8e364f2cb9470a8b8e5b9ff\n",
            "Successfully built pandasql\n",
            "Installing collected packages: pandasql\n",
            "Successfully installed pandasql-0.7.3\n"
          ]
        }
      ]
    },
    {
      "cell_type": "code",
      "source": [
        "from google.colab import drive\n",
        "drive.mount('/content/drive')\n",
        "\n",
        "driveP = \"/content/drive/MyDrive/\"\n",
        "import os\n",
        "import pandas as pd\n",
        "import numpy as np\n",
        "\n",
        "conn = sqlite3.connect(driveP + \"readychef.db\")\n",
        "def execSQL(conn1,query):\n",
        "  conn1.execute(query) #exeute the SQL query\n",
        "  conn1.commit() # commit the query into the actual database\n",
        "\n",
        "def allrowSelect(conn1,query):\n",
        "  cursor = conn1.execute(query)\n",
        "  for row in cursor:\n",
        "    print(row)\n",
        "\n",
        "def rowSelect(conn1,query, place):\n",
        "  cursor = conn1.execute(query)\n",
        "  cursorInd = 1\n",
        "  for row in cursor:\n",
        "    if cursorInd == place:\n",
        "      print(row)\n",
        "      continue\n",
        "    cursorInd += 1\n",
        "execSQL(conn,\"PRAGMA foreign_keys=ON\")"
      ],
      "metadata": {
        "colab": {
          "base_uri": "https://localhost:8080/"
        },
        "id": "r3HbQVssCJPv",
        "outputId": "8fde7122-5d31-4042-8149-5f1318071d81"
      },
      "execution_count": 9,
      "outputs": [
        {
          "output_type": "stream",
          "name": "stdout",
          "text": [
            "Drive already mounted at /content/drive; to attempt to forcibly remount, call drive.mount(\"/content/drive\", force_remount=True).\n"
          ]
        }
      ]
    },
    {
      "cell_type": "markdown",
      "source": [
        "The remaining questions are based on the **ReadyChef database** (readychef.db) which\n",
        "has been distributed along with this assignment. It represents data from a hypothetical\n",
        "e-commerce website that sells ready-to-eat meals. There are five tables in this\n",
        "database:\n",
        "\n",
        "\n",
        "*   events: contains actions taken by users with respect to meals: can be either\n",
        "\n",
        "*   meals: contains the meal ids, meal types, date, and price. (Meals appear on the bought, like, or share site on particular dates).\n",
        "\n",
        "\n",
        "*   referrals: contains pairs of user ids representing what users have referred other\n",
        "users to the site\n",
        "*   users: contains user ids, dates they joined the site, and what advertising\n",
        "campaign brought them to the site\n",
        "\n",
        "*   visits: contains dates and user ids representing user visits to the site. \n"
      ],
      "metadata": {
        "id": "1dalgX-A-spV"
      }
    },
    {
      "cell_type": "markdown",
      "source": [
        ". 1. Consider the list of JSON documents in MongoDB’s bios example collection.\n",
        "\n",
        "*   https://www.mongodb.com/docs/manual/reference/bios-example-collection/\n",
        "*   The main table **computer_scientists** should contain **id**, **last**, **first**, **birth**, **death** - \n",
        "\n",
        "*   There should also be tables for .\n",
        "*   **computer_scientists** table should be\n",
        "linked to the **contribs** and **awards** tables via one-to-many relationships, each of which should be represented in another table, for a total of five tables. \n",
        "\n",
        "*   Enforce foreign key constraints by adding them to your “CREATE TABLE” statements.\n",
        "\n"
      ],
      "metadata": {
        "id": "27OT9Jkt_ijm"
      }
    },
    {
      "cell_type": "code",
      "source": [],
      "metadata": {
        "id": "kFbBf060C4Yw"
      },
      "execution_count": null,
      "outputs": []
    },
    {
      "cell_type": "code",
      "source": [
        "#1 What is the *average number of awards* per scientist? \n",
        "#You can use any method you want to parse the JSON and insert it into SQLite \n",
        "#(MongoDB queries or just pure Python, for instance). (20 points)\n"
      ],
      "metadata": {
        "id": "zDIN4WwNBZSu"
      },
      "execution_count": 2,
      "outputs": []
    },
    {
      "cell_type": "code",
      "source": [
        "print(\"---------users---------\")\n",
        "allrowSelect(conn,\"select * from pragma_table_info('users')\")\n",
        "print(\"---------visits---------\")\n",
        "allrowSelect(conn,\"select * from pragma_table_info('visits')\")"
      ],
      "metadata": {
        "colab": {
          "base_uri": "https://localhost:8080/"
        },
        "id": "FZLh9oHSC83A",
        "outputId": "9d85c033-aee2-4b2f-8569-6d74a1b313ce"
      },
      "execution_count": 10,
      "outputs": [
        {
          "output_type": "stream",
          "name": "stdout",
          "text": [
            "---------users---------\n",
            "(0, 'userid', 'INTEGER', 0, None, 0)\n",
            "(1, 'dt', 'date', 0, None, 0)\n",
            "(2, 'campaign_id', 'varchar', 0, None, 0)\n",
            "---------visits---------\n",
            "(0, 'dt', 'date', 0, None, 0)\n",
            "(1, 'userid', 'INTEGER', 0, None, 0)\n"
          ]
        }
      ]
    },
    {
      "cell_type": "markdown",
      "source": [
        "2. What is the user id of the user that visited the site most frequently?\n"
      ],
      "metadata": {
        "id": "-Sh6tdzGBiqW"
      }
    },
    {
      "cell_type": "code",
      "source": [],
      "metadata": {
        "id": "NtjjQZFvBbZ_"
      },
      "execution_count": null,
      "outputs": []
    },
    {
      "cell_type": "code",
      "source": [
        "print(\"---------meals---------\")\n",
        "allrowSelect(conn,\"select * from pragma_table_info('meals')\")\n",
        "print(\"---------invoice_items---------\")\n",
        "allrowSelect(conn,\"select * from pragma_table_info('events')\")"
      ],
      "metadata": {
        "id": "9n9QSzkrC-BY"
      },
      "execution_count": null,
      "outputs": []
    },
    {
      "cell_type": "markdown",
      "source": [
        "3. What is the average cost of Chinese meals in the meals table, rounded to two\n",
        "decimal places?\n"
      ],
      "metadata": {
        "id": "Kx7q1e6aBoQ2"
      }
    },
    {
      "cell_type": "code",
      "source": [],
      "metadata": {
        "id": "nA9Az2iuBofW"
      },
      "execution_count": null,
      "outputs": []
    },
    {
      "cell_type": "code",
      "source": [
        "print(\"---------meals---------\")\n",
        "allrowSelect(conn,\"select * from pragma_table_info('meals')\")\n",
        "print(\"---------users---------\")\n",
        "allrowSelect(conn,\"select * from pragma_table_info('users')\")"
      ],
      "metadata": {
        "id": "bG2n9MdMDdUS"
      },
      "execution_count": null,
      "outputs": []
    },
    {
      "cell_type": "markdown",
      "source": [
        "\n",
        "4. What user bought the most meals?\n"
      ],
      "metadata": {
        "id": "7MtST4SDBosO"
      }
    },
    {
      "cell_type": "code",
      "source": [],
      "metadata": {
        "id": "KLrs9-JKBo1W"
      },
      "execution_count": null,
      "outputs": []
    },
    {
      "cell_type": "code",
      "source": [
        "print(\"---------referrals---------\")\n",
        "allrowSelect(conn,\"select * from pragma_table_info('referrals')\")\n",
        "print(\"---------users---------\")\n",
        "allrowSelect(conn,\"select * from pragma_table_info('users')\")"
      ],
      "metadata": {
        "colab": {
          "base_uri": "https://localhost:8080/"
        },
        "id": "I-iCFJYiD09i",
        "outputId": "08180052-07f3-4e58-c461-30a1305e9d80"
      },
      "execution_count": 13,
      "outputs": [
        {
          "output_type": "stream",
          "name": "stdout",
          "text": [
            "---------referrals---------\n",
            "(0, 'referred', 'INTEGER', 0, None, 0)\n",
            "(1, 'referred_by', 'INTEGER', 0, None, 0)\n",
            "---------users---------\n",
            "(0, 'userid', 'INTEGER', 0, None, 0)\n",
            "(1, 'dt', 'date', 0, None, 0)\n",
            "(2, 'campaign_id', 'varchar', 0, None, 0)\n"
          ]
        }
      ]
    },
    {
      "cell_type": "markdown",
      "source": [
        "5. Quite a few users are tied for the most other users referred. For these top\n",
        "referrers, what is the number of other users referred?\n"
      ],
      "metadata": {
        "id": "e7v3us43Bo9u"
      }
    },
    {
      "cell_type": "code",
      "source": [],
      "metadata": {
        "id": "jez9yJsgBpF-"
      },
      "execution_count": null,
      "outputs": []
    },
    {
      "cell_type": "code",
      "source": [
        "print(\"---------events---------\")\n",
        "allrowSelect(conn,\"select * from pragma_table_info('events')\")"
      ],
      "metadata": {
        "colab": {
          "base_uri": "https://localhost:8080/"
        },
        "id": "qcVPJ4XfEFXr",
        "outputId": "eddd2cd5-b254-4848-d79d-31f400d6638f"
      },
      "execution_count": 14,
      "outputs": [
        {
          "output_type": "stream",
          "name": "stdout",
          "text": [
            "---------events---------\n",
            "(0, 'dt', 'date', 0, None, 0)\n",
            "(1, 'userid', 'INTEGER', 0, None, 0)\n",
            "(2, 'meal_id', 'INTEGER', 0, None, 0)\n",
            "(3, 'event', 'varchar', 0, None, 0)\n"
          ]
        }
      ]
    },
    {
      "cell_type": "markdown",
      "source": [
        "\n",
        "6. What type of meal was most frequently shared by the user who bought the most\n",
        "meals?"
      ],
      "metadata": {
        "id": "9xcS-YmdBpMw"
      }
    },
    {
      "cell_type": "code",
      "source": [
        "#events=bought,shared\n",
        "#"
      ],
      "metadata": {
        "id": "Oa_siBjgBpVe"
      },
      "execution_count": null,
      "outputs": []
    },
    {
      "cell_type": "code",
      "source": [
        "print(\"---------meals---------\")\n",
        "allrowSelect(conn,\"select * from pragma_table_info('meals')\")\n"
      ],
      "metadata": {
        "colab": {
          "base_uri": "https://localhost:8080/"
        },
        "id": "OxXRTnuLEKqT",
        "outputId": "5204795f-b24a-439e-d76a-17528b5d868c"
      },
      "execution_count": 12,
      "outputs": [
        {
          "output_type": "stream",
          "name": "stdout",
          "text": [
            "---------meals---------\n",
            "(0, 'meal_id', 'INTEGER', 0, None, 0)\n",
            "(1, 'type', 'varchar', 0, None, 0)\n",
            "(2, 'dt', 'date', 0, None, 0)\n",
            "(3, 'price', 'INTEGER', 0, None, 0)\n"
          ]
        }
      ]
    },
    {
      "cell_type": "markdown",
      "source": [
        "\n",
        "7. Using a window function, assign a quintile from 1 to 5 to each meal based on the\n",
        "price with quintile 1 having the highest price and quintile 5 the lowest. What is\n",
        "the lowest price in quintile 3?\n"
      ],
      "metadata": {
        "id": "R43CgDyBBpcu"
      }
    },
    {
      "cell_type": "code",
      "source": [],
      "metadata": {
        "id": "ndejdMXrBplu"
      },
      "execution_count": null,
      "outputs": []
    },
    {
      "cell_type": "code",
      "source": [
        "print(\"---------invoices---------\")\n",
        "allrowSelect(conn,\"select * from pragma_table_info('invoices')\")\n",
        "print(\"---------invoice_items---------\")\n",
        "allrowSelect(conn,\"select * from pragma_table_info('invoice_items')\")"
      ],
      "metadata": {
        "id": "ZZMB64bPELLD"
      },
      "execution_count": null,
      "outputs": []
    },
    {
      "cell_type": "markdown",
      "source": [
        "\n",
        "8. Using a window function, create a view that has the following columns: userid,\n",
        "current_order_date, current_meal_type, and next_meal_type. This should be\n",
        "based on **partitioning by user** and ordering by date for the meals each user\n",
        "bought. \n",
        "\n",
        "*   For each date that the user bought a meal, the next_meal_type should\n",
        "contain the type of the next meal that they bought, chronologically. Query this\n",
        "view to find the types of the first three meals bought by user 2.\n",
        "\n",
        "\n",
        "\n"
      ],
      "metadata": {
        "id": "k0RI1fWbB23_"
      }
    },
    {
      "cell_type": "code",
      "source": [
        "#8 userid, current_order_date, current_meal_type, next_meal_type"
      ],
      "metadata": {
        "id": "dBB_QIwHB2--"
      },
      "execution_count": null,
      "outputs": []
    },
    {
      "cell_type": "code",
      "source": [
        "print(\"---------meals---------\")\n",
        "allrowSelect(conn,\"select * from pragma_table_info('meals')\")"
      ],
      "metadata": {
        "colab": {
          "base_uri": "https://localhost:8080/"
        },
        "id": "Xdwv4WpcEMBa",
        "outputId": "880bb141-a530-4bdd-9d99-bf9326e06f36"
      },
      "execution_count": 11,
      "outputs": [
        {
          "output_type": "stream",
          "name": "stdout",
          "text": [
            "---------meals---------\n",
            "(0, 'meal_id', 'INTEGER', 0, None, 0)\n",
            "(1, 'type', 'varchar', 0, None, 0)\n",
            "(2, 'dt', 'date', 0, None, 0)\n",
            "(3, 'price', 'INTEGER', 0, None, 0)\n"
          ]
        }
      ]
    },
    {
      "cell_type": "markdown",
      "source": [
        "\n",
        "9. Find the average price for each type of meal using a window function and add it\n",
        "to the table without reducing the number of meals. Then find the difference in\n",
        "price between each meal and the average of that type. What is this value for the\n",
        "cheapest Italian meal (that is, how much less is it than the average)?"
      ],
      "metadata": {
        "id": "he8OpDH3B3M-"
      }
    },
    {
      "cell_type": "code",
      "source": [
        "#avg "
      ],
      "metadata": {
        "id": "Sk8Xdkf_B3Vu"
      },
      "execution_count": null,
      "outputs": []
    }
  ]
}