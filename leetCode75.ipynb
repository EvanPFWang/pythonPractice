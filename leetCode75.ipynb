{
 "cells": [
  {
   "cell_type": "code",
   "execution_count": null,
   "id": "initial_id",
   "metadata": {
    "collapsed": true
   },
   "outputs": [],
   "source": [
    "\n",
    "    def mergeAlternately(self, word1: str, word2: str) -> str:\n",
    "        len1    =   len(word1)\n",
    "        len2    =   len(word2)\n",
    "        wordC   =   \"\"\n",
    "        if  len1    ==  len2:\n",
    "            for a   in  range(len2):\n",
    "                wordC   +=  word1[a]\n",
    "                wordC   +=  word2[a]\n",
    "        else:\n",
    "            if  len1    <   len2:\n",
    "                for a   in  range(len1):\n",
    "                    wordC   +=  word1[a]\n",
    "                    wordC   +=  word2[a]\n",
    "                wordC   +=  word2[len1::]\n",
    "            if  len1    >   len2:\n",
    "                for a   in  range(len2):\n",
    "                    wordC   +=  word1[a]\n",
    "                    wordC   +=  word2[a]\n",
    "                wordC   +=  word1[len2::]\n",
    "        return  wordC\n",
    "\n",
    "#https://leetcode.com/problems/greatest-common-divisor-of-strings/description/?envType=study-plan-v2&envId=leetcode-75"
   ]
  },
  {
   "metadata": {},
   "cell_type": "code",
   "outputs": [],
   "execution_count": null,
   "source": [
    "class Solution:\n",
    "    def tribonacci(self, n: int) -> int:\n",
    "        storage =   {0:0,1:1,2:1}\n",
    "        return  self.tribonacci2(n,storage)\n",
    "    def tribonacci2(self, n: int,    memo) -> int:\n",
    "        if  n   in  memo.keys():\n",
    "            return  memo[n]\n",
    "        else:\n",
    "            memo[n] =   self.tribonacci2(n-3,memo)   +   self.tribonacci2(n-2,memo)  +   self.tribonacci2(n-1,memo)\n",
    "            if  n   >   3:\n",
    "                memo.pop(n-4)\n",
    "\n",
    "            return  memo[n]\n"
   ],
   "id": "849e460568714b0a"
  },
  {
   "metadata": {},
   "cell_type": "code",
   "outputs": [],
   "execution_count": null,
   "source": [
    "class Solution:\n",
    "    def rob(self, nums: List[int]) -> int:\n",
    "        #[nums[a] for a in range(len(nums)) if a % 2 != 0]\n",
    "\n",
    "\n",
    "        #[]\n",
    "        [[nums[a]   for a   in  range(b+1)]   for b   in  range(len(nums))]\n",
    "        #print(        [[nums[a]   for a   in  range(b+1)]   for b   in  range(len(nums))]\n",
    ")\n",
    "        initMax =  max(sum([nums[a] for a in range(len(nums)) if a % 2 != 0]),sum([nums[a] for a in range(len(nums)) if a % 2 == 0]))\n",
    "\n",
    "        return  initMax\n",
    "\n",
    "    #can you not please? I'm on the 7th floor for convenience sake"
   ],
   "id": "547e32ca8c4af0a8"
  },
  {
   "cell_type": "code",
   "outputs": [],
   "source": [
    "class Solution:\n",
    "        def gcdOfStrings(self, str1: str, str2: str) -> str:\n",
    "            def factors(num:   int)    ->  List[int]:\n",
    "                sqAprox =   1\n",
    "                while sqAprox   *   sqAprox <=   num:\n",
    "                    sqAprox += 1\n",
    "                sqAprox -=  1\n",
    "                factors =   [a  for a in range(1,    sqAprox+1) if  num    %   a   ==  0]\n",
    "                return factors\n",
    "            def check(str: str, checkAgainst: str) -> bool:\n",
    "                copy = \"\"\n",
    "                while(len(copy) < len(checkAgainst)):\n",
    "                    copy += checkAgainst\n",
    "                return  copy==checkAgainst\n",
    "            factorLengths1  =   factors(len(str1))\n",
    "            factorLengths2  =   factors(len(str2))\n",
    "            sharedLengths   =   []\n",
    "        \n",
    "\n",
    "                \n",
    "            \n",
    "            if factorLengths1 > factorLengths2:\n",
    "                sharedLengths   =   [x  for x in factorLengths1 if x in factorLengths2]\n",
    "            else:\n",
    "                sharedLengths   =   [x  for x in factorLengths2 if x in factorLengths1]\n",
    "            sharedLengths.sort(reverse=True)\n",
    "            for sharedFactor in sharedLengths:\n",
    "                tryCheck    =   str1[:sharedFactor]\n",
    "                if check(tryCheck,str1) and check(tryCheck, str2):\n",
    "                    return tryCheck\n",
    "            return  \"\"\n"
   ],
   "metadata": {
    "collapsed": false
   },
   "id": "a530b3bf254a62b4",
   "execution_count": null
  },
  {
   "cell_type": "code",
   "outputs": [],
   "source": [
    "from typing import List\n",
    "\n",
    "class Solution:\n",
    "    def maxProfit(self, prices: List[int]) -> int:\n",
    "        def extr(arr, mode=1) -> int:\n",
    "            if  len(arr)==1:\n",
    "                return  0\n",
    "            if mode == 0:\n",
    "                minIn = 0\n",
    "                for i in range(len(arr)):\n",
    "                    if arr[i] < arr[minIn]:\n",
    "                        minIn = i\n",
    "                return minIn\n",
    "            else:\n",
    "                maxIn = 0\n",
    "                for i in range(len(arr)):\n",
    "                    if arr[i] > arr[maxIn]:\n",
    "                        maxIn = i\n",
    "                return maxIn\n",
    "\n",
    "        inBuy = extr(prices, 0)\n",
    "        \n",
    "        if inBuy == 0:\n",
    "            return 0\n",
    "        inSell = extr(prices[inBuy:], 1) + inBuy  # Corrected the indexing\n",
    "        if inSell > inBuy:\n",
    "            return prices[inSell] - prices[inBuy]\n",
    "        else:\n",
    "            return 0  # Return 0 if there's no profit\n",
    "\n",
    "# Example usage:\n",
    "solution = Solution()\n",
    "tryprices = [1, 4]\n",
    "            \n",
    "print(solution.maxProfit(tryprices))  # Output: 5\n",
    "            "
   ],
   "metadata": {
    "collapsed": false,
    "is_executing": true
   },
   "id": "ca25060e64c8e501",
   "execution_count": null
  },
  {
   "cell_type": "code",
   "outputs": [],
   "source": [
    "class Solution:\n",
    "    def twoSumBrute(self, nums: List[int], target: int) -> List[int]:\n",
    "    #add over R is commutative\n",
    "        for i   in  range(len(nums)):\n",
    "            #if  nums[i] >   target:\n",
    "            #    continue\n",
    "            for j   in  range(i+1,len(nums)):\n",
    "                if  nums[i]   +   nums[j]   ==   target:\n",
    "                    return  [i,j]\n",
    "    def twoSumOnePass(self, nums: List[int], target: int) -> List[int]:\n",
    "        map =   {}\n",
    "\n",
    "        for i   in  range(len(nums)):\n",
    "            comp    =   target  -   nums[i]\n",
    "            if  comp    in  map:\n",
    "                return  [map[comp],i]\n",
    "            map[nums[i]] =   i\n",
    "        return\n",
    "        "
   ],
   "metadata": {
    "collapsed": false
   },
   "id": "cf743c897e0bb72a",
   "execution_count": null
  },
  {
   "cell_type": "code",
   "outputs": [],
   "source": [
    "class Solution:\n",
    "    def containsDuplicate(self, nums: List[int]) -> bool:\n",
    "        map =   {}\n",
    "\n",
    "        for i   in  range(len(nums)):\n",
    "            if  nums[i] in  map:\n",
    "                return True\n",
    "            map[nums[i]]    =   i\n",
    "        return False\n"
   ],
   "metadata": {
    "collapsed": false
   },
   "id": "d7a6debbaa46f0cb",
   "execution_count": null
  },
  {
   "cell_type": "code",
   "outputs": [],
   "source": [],
   "metadata": {
    "collapsed": false
   },
   "id": "4412aff22bffa9fa",
   "execution_count": null
  },
  {
   "cell_type": "code",
   "outputs": [],
   "source": [
    "class Solution:\n",
    "    def productExceptSelf(self, nums: List[int]) -> List[int]:\n",
    "        n, res, suffix_prod = len(nums), [1]*len(nums), 1\n",
    "        \n",
    "        #pass 1 Pref\n",
    "        for i in range(1,len(nums)):\n",
    "            res[i]  =   res[i-1]*nums[i-1]\n",
    "        for j in range(n-1,-1,-1):\n",
    "            res[j] *= suffix_prod\n",
    "            suffix_prod *=  nums[j]\n",
    "        return res\n",
    "            \n",
    "\n",
    "\n"
   ],
   "metadata": {
    "collapsed": false
   },
   "id": "5a00bb9c7c5c2f02",
   "execution_count": null
  },
  {
   "cell_type": "code",
   "outputs": [],
   "source": [
    "#suffix retry\n",
    "\n",
    "def sort_cyclic_shifts(s):\n",
    "    n = len(s)\n",
    "    alphabet = 256\n",
    "    p = [0] * n\n",
    "    c = [0] * n\n",
    "    cnt = [0] * max(alphabet, n)\n",
    "    for i in range(n):\n",
    "        cnt[ord(s[i])] += 1\n",
    "    for i in range(1, alphabet):\n",
    "        cnt[i] += cnt[i - 1]\n",
    "    for i in range(n):\n",
    "        p[cnt[ord(s[i])] - 1] = i\n",
    "        cnt[ord(s[i])] -= 1\n",
    "    c[p[0]] = 0\n",
    "    classes = 1\n",
    "    for i in range(1, n):\n",
    "        if s[p[i]] != s[p[i - 1]]:\n",
    "            classes += 1\n",
    "        c[p[i]] = classes - 1\n",
    "\n",
    "    pn = [0] * n\n",
    "    cn = [0] * n\n",
    "    h = 0\n",
    "    while (1 << h) < n:\n",
    "        for i in range(n):\n",
    "            pn[i] = (p[i] - (1 << h) + n) % n\n",
    "        cnt = [0] * classes\n",
    "        for i in range(n):\n",
    "            cnt[c[pn[i]]] += 1\n",
    "        for i in range(1, classes):\n",
    "            cnt[i] += cnt[i - 1]\n",
    "        for i in range(n - 1, -1, -1):\n",
    "            p[cnt[c[pn[i]]] - 1] = pn[i]\n",
    "            cnt[c[pn[i]]] -= 1\n",
    "        cn[p[0]] = 0\n",
    "        classes = 1\n",
    "        for i in range(1, n):\n",
    "            cur = (c[p[i]], c[(p[i] + (1 << h)) % n])\n",
    "            prev = (c[p[i - 1]], c[(p[i - 1] + (1 << h)) % n])\n",
    "            if cur != prev:\n",
    "                classes += 1\n",
    "            cn[p[i]] = classes - 1\n",
    "        c, cn = cn, c\n",
    "        h += 1\n",
    "\n",
    "    return p\n",
    "\n",
    "\n",
    "def suffix_array_construction(s):\n",
    "    s += \"$\"\n",
    "    sorted_shifts = sort_cyclic_shifts(s)\n",
    "    sorted_shifts.pop(0)\n",
    "    return sorted_shifts\n",
    "\n",
    "\n",
    "def compare(i, j, l, k):\n",
    "    a = (c[k][i], c[k][(i + l - (1 << k)) % n])\n",
    "    b = (c[k][j], c[k][(j + l - (1 << k)) % n])\n",
    "    return (a > b) - (a < b)\n",
    "\n",
    "\n",
    "def lcp(i, j):\n",
    "    ans = 0\n",
    "    for k in range(log_n, -1, -1):\n",
    "        if c[k][i % n] == c[k][j % n]:\n",
    "            ans += 1 << k\n",
    "            i += 1 << k\n",
    "            j += 1 << k\n",
    "    return ans\n",
    "\n",
    "#https://cp-algorithms.com/string/suffix-array.html\n",
    "#https://cp-algorithms.com/string/prefix-function.html"
   ],
   "metadata": {
    "collapsed": false,
    "is_executing": true
   },
   "id": "f8367145bc759415",
   "execution_count": null
  },
  {
   "cell_type": "code",
   "outputs": [],
   "source": [
    "def uniqKintSumtoN(n, k, lst, Minn = 1):\n",
    "    '''Enumerates integer partitions of Sum'''\n",
    "    if k == 0:\n",
    "        if n == 0:\n",
    "            print(lst)\n",
    "        return\n",
    "    for i in range(Minn, n//k+1):\n",
    "        uniqKintSumtoN(n - i, k - 1, lst + [i], i)\n",
    "\n",
    "uniqKintSumtoN(6, 3, [])"
   ],
   "metadata": {
    "collapsed": false,
    "is_executing": true
   },
   "id": "4551c428560145aa",
   "execution_count": null
  },
  {
   "cell_type": "code",
   "outputs": [],
   "source": [
    "def derivative_solver(exp, point):\n",
    "    '''https://www.reddit.com/r/Python/comments/1184ijg/i_made_a_derivative_calculator_using_python/'''"
   ],
   "metadata": {
    "collapsed": false,
    "is_executing": true
   },
   "id": "f4fd69258ff45dc8",
   "execution_count": null
  },
  {
   "cell_type": "code",
   "outputs": [],
   "source": [],
   "metadata": {
    "collapsed": false
   },
   "id": "bd21d200fbe95938",
   "execution_count": null
  }
 ],
 "metadata": {
  "kernelspec": {
   "display_name": "Python 3",
   "language": "python",
   "name": "python3"
  },
  "language_info": {
   "codemirror_mode": {
    "name": "ipython",
    "version": 2
   },
   "file_extension": ".py",
   "mimetype": "text/x-python",
   "name": "python",
   "nbconvert_exporter": "python",
   "pygments_lexer": "ipython2",
   "version": "2.7.6"
  }
 },
 "nbformat": 4,
 "nbformat_minor": 5
}
