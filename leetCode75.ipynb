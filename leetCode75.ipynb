{
 "cells": [
  {
   "cell_type": "code",
   "execution_count": null,
   "id": "initial_id",
   "metadata": {
    "collapsed": true
   },
   "outputs": [],
   "source": [
    "\n",
    "    def mergeAlternately(self, word1: str, word2: str) -> str:\n",
    "        len1    =   len(word1)\n",
    "        len2    =   len(word2)\n",
    "        wordC   =   \"\"\n",
    "        if  len1    ==  len2:\n",
    "            for a   in  range(len2):\n",
    "                wordC   +=  word1[a]\n",
    "                wordC   +=  word2[a]\n",
    "        else:\n",
    "            if  len1    <   len2:\n",
    "                for a   in  range(len1):\n",
    "                    wordC   +=  word1[a]\n",
    "                    wordC   +=  word2[a]\n",
    "                wordC   +=  word2[len1::]\n",
    "            if  len1    >   len2:\n",
    "                for a   in  range(len2):\n",
    "                    wordC   +=  word1[a]\n",
    "                    wordC   +=  word2[a]\n",
    "                wordC   +=  word1[len2::]\n",
    "        return  wordC\n",
    "\n",
    "#https://leetcode.com/problems/greatest-common-divisor-of-strings/description/?envType=study-plan-v2&envId=leetcode-75"
   ]
  },
  {
   "cell_type": "code",
   "outputs": [],
   "source": [
    "class Solution:\n",
    "        def gcdOfStrings(self, str1: str, str2: str) -> str:\n",
    "            def factors(num:   int)    ->  List[int]:\n",
    "                sqAprox =   1\n",
    "                while sqAprox   *   sqAprox <=   num:\n",
    "                    sqAprox += 1\n",
    "                sqAprox -=  1\n",
    "                factors =   [a  for a in range(1,    sqAprox+1) if  num    %   a   ==  0]\n",
    "                return factors\n",
    "            def check(str: str, checkAgainst: str) -> bool:\n",
    "                copy = \"\"\n",
    "                while(len(copy) < len(checkAgainst)):\n",
    "                    copy += checkAgainst\n",
    "                return  copy==checkAgainst\n",
    "            factorLengths1  =   factors(len(str1))\n",
    "            factorLengths2  =   factors(len(str2))\n",
    "            sharedLengths   =   []\n",
    "        \n",
    "\n",
    "                \n",
    "            \n",
    "            if factorLengths1 > factorLengths2:\n",
    "                sharedLengths   =   [x  for x in factorLengths1 if x in factorLengths2]\n",
    "            else:\n",
    "                sharedLengths   =   [x  for x in factorLengths2 if x in factorLengths1]\n",
    "            sharedLengths.sort(reverse=True)\n",
    "            for sharedFactor in sharedLengths:\n",
    "                tryCheck    =   str1[:sharedFactor]\n",
    "                if check(tryCheck,str1) and check(tryCheck, str2):\n",
    "                    return tryCheck\n",
    "            return  \"\"\n"
   ],
   "metadata": {
    "collapsed": false
   },
   "id": "a530b3bf254a62b4"
  },
  {
   "cell_type": "code",
   "outputs": [],
   "source": [
    "from typing import List\n",
    "\n",
    "class Solution:\n",
    "    def maxProfit(self, prices: List[int]) -> int:\n",
    "        def extr(arr, mode=1) -> int:\n",
    "            if  len(arr)==1:\n",
    "                return  0\n",
    "            if mode == 0:\n",
    "                minIn = 0\n",
    "                for i in range(len(arr)):\n",
    "                    if arr[i] < arr[minIn]:\n",
    "                        minIn = i\n",
    "                return minIn\n",
    "            else:\n",
    "                maxIn = 0\n",
    "                for i in range(len(arr)):\n",
    "                    if arr[i] > arr[maxIn]:\n",
    "                        maxIn = i\n",
    "                return maxIn\n",
    "\n",
    "        inBuy = extr(prices, 0)\n",
    "        \n",
    "        if inBuy == 0:\n",
    "            return 0\n",
    "        inSell = extr(prices[inBuy:], 1) + inBuy  # Corrected the indexing\n",
    "        if inSell > inBuy:\n",
    "            return prices[inSell] - prices[inBuy]\n",
    "        else:\n",
    "            return 0  # Return 0 if there's no profit\n",
    "\n",
    "# Example usage:\n",
    "solution = Solution()\n",
    "tryprices = [1, 4]\n",
    "            \n",
    "print(solution.maxProfit(tryprices))  # Output: 5\n",
    "            "
   ],
   "metadata": {
    "collapsed": false,
    "is_executing": true
   },
   "id": "ca25060e64c8e501"
  },
  {
   "cell_type": "code",
   "outputs": [],
   "source": [
    "class Solution:\n",
    "    def twoSumBrute(self, nums: List[int], target: int) -> List[int]:\n",
    "    #add over R is commutative\n",
    "        for i   in  range(len(nums)):\n",
    "            #if  nums[i] >   target:\n",
    "            #    continue\n",
    "            for j   in  range(i+1,len(nums)):\n",
    "                if  nums[i]   +   nums[j]   ==   target:\n",
    "                    return  [i,j]\n",
    "    def twoSumOnePass(self, nums: List[int], target: int) -> List[int]:\n",
    "        map =   {}\n",
    "\n",
    "        for i   in  range(len(nums)):\n",
    "            comp    =   target  -   nums[i]\n",
    "            if  comp    in  map:\n",
    "                return  [map[comp],i]\n",
    "            map[nums[i]] =   i\n",
    "        return\n",
    "        "
   ],
   "metadata": {
    "collapsed": false
   },
   "id": "cf743c897e0bb72a"
  }
 ],
 "metadata": {
  "kernelspec": {
   "display_name": "Python 3",
   "language": "python",
   "name": "python3"
  },
  "language_info": {
   "codemirror_mode": {
    "name": "ipython",
    "version": 2
   },
   "file_extension": ".py",
   "mimetype": "text/x-python",
   "name": "python",
   "nbconvert_exporter": "python",
   "pygments_lexer": "ipython2",
   "version": "2.7.6"
  }
 },
 "nbformat": 4,
 "nbformat_minor": 5
}
