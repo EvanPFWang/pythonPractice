{
 "cells": [
  {
   "cell_type": "code",
   "execution_count": null,
   "id": "initial_id",
   "metadata": {
    "collapsed": true
   },
   "outputs": [],
   "source": [
    "\n",
    "    def mergeAlternately(self, word1: str, word2: str) -> str:\n",
    "        len1    =   len(word1)\n",
    "        len2    =   len(word2)\n",
    "        wordC   =   \"\"\n",
    "        if  len1    ==  len2:\n",
    "            for a   in  range(len2):\n",
    "                wordC   +=  word1[a]\n",
    "                wordC   +=  word2[a]\n",
    "        else:\n",
    "            if  len1    <   len2:\n",
    "                for a   in  range(len1):\n",
    "                    wordC   +=  word1[a]\n",
    "                    wordC   +=  word2[a]\n",
    "                wordC   +=  word2[len1::]\n",
    "            if  len1    >   len2:\n",
    "                for a   in  range(len2):\n",
    "                    wordC   +=  word1[a]\n",
    "                    wordC   +=  word2[a]\n",
    "                wordC   +=  word1[len2::]\n",
    "        return  wordC\n",
    "\n",
    "#https://leetcode.com/problems/greatest-common-divisor-of-strings/description/?envType=study-plan-v2&envId=leetcode-75"
   ]
  },
  {
   "cell_type": "code",
   "outputs": [],
   "source": [
    "    def gcdOfStrings(self, str1: str, str2: str) -> str:\n",
    "        len1    =   len(str1)\n",
    "        len2 = len(str2)\n",
    "        factorLengths1  =   factors(len1)\n",
    "        factorLengths2  =   factors(len2)\n",
    "        \n",
    "        sharedLengths   =   [x  for x in factorLengths1 if x in factorLengths2]\n",
    "        \n",
    "        \n",
    "    def factors(self,num:   int)    ->  List[int]:\n",
    "        sqAprox =   1\n",
    "        while sqAprox   *   sqAprox <=   num:\n",
    "            sqAprox += 1\n",
    "        sqAprox -=  1\n",
    "        factors =   [a  for a in range(1,    sqAprox+1) if  num    %   a   ==  0]\n",
    "        return factors\n",
    "    \n",
    "                    \n",
    "            \n",
    "        \n"
   ],
   "metadata": {
    "collapsed": false
   },
   "id": "a530b3bf254a62b4"
  }
 ],
 "metadata": {
  "kernelspec": {
   "display_name": "Python 3",
   "language": "python",
   "name": "python3"
  },
  "language_info": {
   "codemirror_mode": {
    "name": "ipython",
    "version": 2
   },
   "file_extension": ".py",
   "mimetype": "text/x-python",
   "name": "python",
   "nbconvert_exporter": "python",
   "pygments_lexer": "ipython2",
   "version": "2.7.6"
  }
 },
 "nbformat": 4,
 "nbformat_minor": 5
}
