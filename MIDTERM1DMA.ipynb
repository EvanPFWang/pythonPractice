{
  "nbformat": 4,
  "nbformat_minor": 0,
  "metadata": {
    "colab": {
      "provenance": [],
      "authorship_tag": "ABX9TyPYUutFEw0xROWwWOhFRvZ6",
      "include_colab_link": true
    },
    "kernelspec": {
      "name": "python3",
      "display_name": "Python 3"
    },
    "language_info": {
      "name": "python"
    }
  },
  "cells": [
    {
      "cell_type": "markdown",
      "metadata": {
        "id": "view-in-github",
        "colab_type": "text"
      },
      "source": [
        "<a href=\"https://colab.research.google.com/github/EvanPFWang/pythonPractice/blob/main/MIDTERM1DMA.ipynb\" target=\"_parent\"><img src=\"https://colab.research.google.com/assets/colab-badge.svg\" alt=\"Open In Colab\"/></a>"
      ]
    },
    {
      "cell_type": "markdown",
      "source": [
        "1.Write a function that given a positive integer n, returns a Python set of its (distinct) factors including 1 but not including n.\n",
        "\n",
        "So, for instance, factors(28) should return {1, 2, 4, 7, 14}.\n",
        "\n",
        "In determining the factors, do not divide n by any number greater than the square root of n, since factors exist in pairs of the form i and n//i where i is less than or equal to the square root of n. So you should add them in pairs.\n",
        "\n",
        "Paste your code in the box below."
      ],
      "metadata": {
        "id": "H10B4aRSewUW"
      }
    },
    {
      "cell_type": "code",
      "source": [
        "import math\n",
        "\n",
        "def factors(n):\n",
        "  facts = [1]\n",
        "  for i in [i for i in range(2,n) if i*i<n]:\n",
        "    if n%i==0:\n",
        "      facts.append(i)\n",
        "      facts.append(int(n/i))\n",
        "  return set(facts)\n",
        "    \n",
        "\n",
        "factors(28)"
      ],
      "metadata": {
        "colab": {
          "base_uri": "https://localhost:8080/"
        },
        "id": "0D9bD3iwexUT",
        "outputId": "dedf55ed-29c0-475b-b641-00c1b3b27465"
      },
      "execution_count": null,
      "outputs": [
        {
          "output_type": "execute_result",
          "data": {
            "text/plain": [
              "{1, 2, 4, 7, 14}"
            ]
          },
          "metadata": {},
          "execution_count": 14
        }
      ]
    },
    {
      "cell_type": "markdown",
      "source": [
        "Question 2 (10 points) \n",
        "Use a dictionary comprehension to create a dictionary d consisting in which the keys are the numbers from 1 to 999 and the values are how many distinct factors each number has, not including itself.\n",
        "\n",
        "Once you have this dictionary, if pandas has been imported as pd, you can use the following command in pandas\n",
        "\n",
        "df=pd.DataFrame.from_dict(d, orient=\"index\",columns=[\"nFactors\"])\n",
        "to create a dataframe df from your dictionary d with the index (row number) being each number and with a single column containing the number of distinct factors called \"nFactors\".\n",
        "\n",
        "Then use the pandas idxmax() and max() methods on this dataframe to determine what number below 1000 has the most distinct factors. Print it out along with the number of distinct factors it has.\n",
        "\n",
        "Paste your code in the box below. Also provide the value of the number below 1000 with the most distinct factors and the number of distinct factors it has."
      ],
      "metadata": {
        "id": "KQpyiKmde7GW"
      }
    },
    {
      "cell_type": "code",
      "source": [
        "import math\n",
        "\n",
        "\n",
        "def factors(n):\n",
        "  facts = [1]\n",
        "  for i in [i for i in range(2,n) if i*i<n]:\n",
        "    if n%i==0:\n",
        "      facts.append(i)\n",
        "      facts.append(int(n/i))\n",
        "  return len(facts)\n",
        "\n",
        "d = {i:factors(i) for i in range(1,1000)}\n",
        "df=pd.DataFrame.from_dict(d, orient=\"index\",columns=[\"nFactors\"])\n",
        "print(df.idxmax(axis = 0))\n",
        "print(factors(df.idxmax(axis = 0)))\n",
        "#print(int(factors(pd.DataFrame.from_dict(d, orient=\"index\",columns=[\"nFactors\"]).idxmax(axis = 0))))"
      ],
      "metadata": {
        "colab": {
          "base_uri": "https://localhost:8080/",
          "height": 373
        },
        "id": "6Z6oFU0pe7Sa",
        "outputId": "4f0a308f-e912-4e71-a0dd-cd0f92ccdcb5"
      },
      "execution_count": null,
      "outputs": [
        {
          "output_type": "stream",
          "name": "stdout",
          "text": [
            "nFactors    840\n",
            "dtype: int64\n"
          ]
        },
        {
          "output_type": "error",
          "ename": "TypeError",
          "evalue": "ignored",
          "traceback": [
            "\u001b[0;31m---------------------------------------------------------------------------\u001b[0m",
            "\u001b[0;31mTypeError\u001b[0m                                 Traceback (most recent call last)",
            "\u001b[0;32m<ipython-input-60-c9d81aace76e>\u001b[0m in \u001b[0;36m<module>\u001b[0;34m\u001b[0m\n\u001b[1;32m     13\u001b[0m \u001b[0mdf\u001b[0m\u001b[0;34m=\u001b[0m\u001b[0mpd\u001b[0m\u001b[0;34m.\u001b[0m\u001b[0mDataFrame\u001b[0m\u001b[0;34m.\u001b[0m\u001b[0mfrom_dict\u001b[0m\u001b[0;34m(\u001b[0m\u001b[0md\u001b[0m\u001b[0;34m,\u001b[0m \u001b[0morient\u001b[0m\u001b[0;34m=\u001b[0m\u001b[0;34m\"index\"\u001b[0m\u001b[0;34m,\u001b[0m\u001b[0mcolumns\u001b[0m\u001b[0;34m=\u001b[0m\u001b[0;34m[\u001b[0m\u001b[0;34m\"nFactors\"\u001b[0m\u001b[0;34m]\u001b[0m\u001b[0;34m)\u001b[0m\u001b[0;34m\u001b[0m\u001b[0;34m\u001b[0m\u001b[0m\n\u001b[1;32m     14\u001b[0m \u001b[0mprint\u001b[0m\u001b[0;34m(\u001b[0m\u001b[0mdf\u001b[0m\u001b[0;34m.\u001b[0m\u001b[0midxmax\u001b[0m\u001b[0;34m(\u001b[0m\u001b[0maxis\u001b[0m \u001b[0;34m=\u001b[0m \u001b[0;36m0\u001b[0m\u001b[0;34m)\u001b[0m\u001b[0;34m)\u001b[0m\u001b[0;34m\u001b[0m\u001b[0;34m\u001b[0m\u001b[0m\n\u001b[0;32m---> 15\u001b[0;31m \u001b[0mprint\u001b[0m\u001b[0;34m(\u001b[0m\u001b[0mfactors\u001b[0m\u001b[0;34m(\u001b[0m\u001b[0mdf\u001b[0m\u001b[0;34m.\u001b[0m\u001b[0midxmax\u001b[0m\u001b[0;34m(\u001b[0m\u001b[0maxis\u001b[0m \u001b[0;34m=\u001b[0m \u001b[0;36m0\u001b[0m\u001b[0;34m)\u001b[0m\u001b[0;34m)\u001b[0m\u001b[0;34m)\u001b[0m\u001b[0;34m\u001b[0m\u001b[0;34m\u001b[0m\u001b[0m\n\u001b[0m\u001b[1;32m     16\u001b[0m \u001b[0;31m#print(int(factors(pd.DataFrame.from_dict(d, orient=\"index\",columns=[\"nFactors\"]).idxmax(axis = 0))))\u001b[0m\u001b[0;34m\u001b[0m\u001b[0;34m\u001b[0m\u001b[0;34m\u001b[0m\u001b[0m\n",
            "\u001b[0;32m<ipython-input-60-c9d81aace76e>\u001b[0m in \u001b[0;36mfactors\u001b[0;34m(n)\u001b[0m\n\u001b[1;32m      4\u001b[0m \u001b[0;32mdef\u001b[0m \u001b[0mfactors\u001b[0m\u001b[0;34m(\u001b[0m\u001b[0mn\u001b[0m\u001b[0;34m)\u001b[0m\u001b[0;34m:\u001b[0m\u001b[0;34m\u001b[0m\u001b[0;34m\u001b[0m\u001b[0m\n\u001b[1;32m      5\u001b[0m   \u001b[0mfacts\u001b[0m \u001b[0;34m=\u001b[0m \u001b[0;34m[\u001b[0m\u001b[0;36m1\u001b[0m\u001b[0;34m]\u001b[0m\u001b[0;34m\u001b[0m\u001b[0;34m\u001b[0m\u001b[0m\n\u001b[0;32m----> 6\u001b[0;31m   \u001b[0;32mfor\u001b[0m \u001b[0mi\u001b[0m \u001b[0;32min\u001b[0m \u001b[0;34m[\u001b[0m\u001b[0mi\u001b[0m \u001b[0;32mfor\u001b[0m \u001b[0mi\u001b[0m \u001b[0;32min\u001b[0m \u001b[0mrange\u001b[0m\u001b[0;34m(\u001b[0m\u001b[0;36m2\u001b[0m\u001b[0;34m,\u001b[0m\u001b[0mn\u001b[0m\u001b[0;34m)\u001b[0m \u001b[0;32mif\u001b[0m \u001b[0mi\u001b[0m\u001b[0;34m*\u001b[0m\u001b[0mi\u001b[0m\u001b[0;34m<\u001b[0m\u001b[0mn\u001b[0m\u001b[0;34m]\u001b[0m\u001b[0;34m:\u001b[0m\u001b[0;34m\u001b[0m\u001b[0;34m\u001b[0m\u001b[0m\n\u001b[0m\u001b[1;32m      7\u001b[0m     \u001b[0;32mif\u001b[0m \u001b[0mn\u001b[0m\u001b[0;34m%\u001b[0m\u001b[0mi\u001b[0m\u001b[0;34m==\u001b[0m\u001b[0;36m0\u001b[0m\u001b[0;34m:\u001b[0m\u001b[0;34m\u001b[0m\u001b[0;34m\u001b[0m\u001b[0m\n\u001b[1;32m      8\u001b[0m       \u001b[0mfacts\u001b[0m\u001b[0;34m.\u001b[0m\u001b[0mappend\u001b[0m\u001b[0;34m(\u001b[0m\u001b[0mi\u001b[0m\u001b[0;34m)\u001b[0m\u001b[0;34m\u001b[0m\u001b[0;34m\u001b[0m\u001b[0m\n",
            "\u001b[0;31mTypeError\u001b[0m: 'Series' object cannot be interpreted as an integer"
          ]
        }
      ]
    },
    {
      "cell_type": "markdown",
      "source": [
        "A perfect number is a number that is equal to the sum of the factors not including itself.\n",
        "\n",
        "Use your factors function and the Python sum function to create a list comprehension that creates a list of all of the perfect numbers under 10000. Print out the list. Do not include 1; 1 is not a perfect number.\n",
        "\n",
        "Paste your code in the box below"
      ],
      "metadata": {
        "id": "pHut6CAQe7dM"
      }
    },
    {
      "cell_type": "code",
      "source": [
        "\n",
        "def factors(n):\n",
        "  facts = [1]\n",
        "  for i in [i for i in range(2,n) if i*i<n]:\n",
        "    if n%i==0:\n",
        "      facts.append(i)\n",
        "      facts.append(int(n/i))\n",
        "  return set(facts)\n",
        "\n",
        "[n for n in range(2,10**4) if (n == sum(factors(n)))]\n"
      ],
      "metadata": {
        "colab": {
          "base_uri": "https://localhost:8080/"
        },
        "id": "No7H4muXe7nx",
        "outputId": "74f717fd-3104-4e0d-bfaf-f83f86ff9763"
      },
      "execution_count": null,
      "outputs": [
        {
          "output_type": "execute_result",
          "data": {
            "text/plain": [
              "[6, 28, 496, 8128]"
            ]
          },
          "metadata": {},
          "execution_count": 15
        }
      ]
    },
    {
      "cell_type": "markdown",
      "source": [
        "4 A Mersenne prime is a prime of the form (2^p)-1 where p is a positive integer. That is, it is a prime that is one less than a power of 2.\n",
        "\n",
        "Write a generator function that yields the Mersenne primes in order. You will need a helper function that tests if a number n is prime. To do this, you will want to only divide by the numbers up until the square root of n (rounded). If you divide up by the numbers up until n-1, your prime tester will be too slow for this task.\n",
        "\n",
        "Then call the next method on this generator function seven times to generate the first seven Mersenne primes. Make sure that you don't call it an eighth time because that will hang up your computer, as the eighth Mersenne prime is very large.\n",
        "\n",
        "Paste your code in the box below. Include your prime number tester function."
      ],
      "metadata": {
        "id": "A1GkqpTNe7xh"
      }
    },
    {
      "cell_type": "code",
      "source": [
        "def primeTester(n):\n",
        "  for i in [i for i in range(2,n) if i*i<n]:\n",
        "    if n%i==0:\n",
        "      return False\n",
        "  return True\n",
        "\n",
        "def merseGen():\n",
        "  count = 0\n",
        "  number = 2\n",
        "  mersies = []\n",
        "  while(count < 7):\n",
        "    if primeTester(number):\n",
        "      for i in [i for i in range(number) if 2**i-1<=number]:\n",
        "        if 2**i-1==number:\n",
        "          yield number\n",
        "\n",
        "[i for i in merseGen()]\n"
      ],
      "metadata": {
        "colab": {
          "base_uri": "https://localhost:8080/",
          "height": 345
        },
        "id": "ftF2cD3Ce76h",
        "outputId": "dc7c0f6e-87eb-4d93-b7aa-78321612a813"
      },
      "execution_count": null,
      "outputs": [
        {
          "output_type": "error",
          "ename": "KeyboardInterrupt",
          "evalue": "ignored",
          "traceback": [
            "\u001b[0;31m---------------------------------------------------------------------------\u001b[0m",
            "\u001b[0;31mKeyboardInterrupt\u001b[0m                         Traceback (most recent call last)",
            "\u001b[0;32m<ipython-input-42-a102b374335e>\u001b[0m in \u001b[0;36m<module>\u001b[0;34m\u001b[0m\n\u001b[1;32m     15\u001b[0m           \u001b[0;32myield\u001b[0m \u001b[0mnumber\u001b[0m\u001b[0;34m\u001b[0m\u001b[0;34m\u001b[0m\u001b[0m\n\u001b[1;32m     16\u001b[0m \u001b[0;34m\u001b[0m\u001b[0m\n\u001b[0;32m---> 17\u001b[0;31m \u001b[0;34m[\u001b[0m\u001b[0mi\u001b[0m \u001b[0;32mfor\u001b[0m \u001b[0mi\u001b[0m \u001b[0;32min\u001b[0m \u001b[0mmerseGen\u001b[0m\u001b[0;34m(\u001b[0m\u001b[0;34m)\u001b[0m\u001b[0;34m]\u001b[0m\u001b[0;34m\u001b[0m\u001b[0;34m\u001b[0m\u001b[0m\n\u001b[0m",
            "\u001b[0;32m<ipython-input-42-a102b374335e>\u001b[0m in \u001b[0;36m<listcomp>\u001b[0;34m(.0)\u001b[0m\n\u001b[1;32m     15\u001b[0m           \u001b[0;32myield\u001b[0m \u001b[0mnumber\u001b[0m\u001b[0;34m\u001b[0m\u001b[0;34m\u001b[0m\u001b[0m\n\u001b[1;32m     16\u001b[0m \u001b[0;34m\u001b[0m\u001b[0m\n\u001b[0;32m---> 17\u001b[0;31m \u001b[0;34m[\u001b[0m\u001b[0mi\u001b[0m \u001b[0;32mfor\u001b[0m \u001b[0mi\u001b[0m \u001b[0;32min\u001b[0m \u001b[0mmerseGen\u001b[0m\u001b[0;34m(\u001b[0m\u001b[0;34m)\u001b[0m\u001b[0;34m]\u001b[0m\u001b[0;34m\u001b[0m\u001b[0;34m\u001b[0m\u001b[0m\n\u001b[0m",
            "\u001b[0;32m<ipython-input-42-a102b374335e>\u001b[0m in \u001b[0;36mmerseGen\u001b[0;34m()\u001b[0m\n\u001b[1;32m     10\u001b[0m   \u001b[0mmersies\u001b[0m \u001b[0;34m=\u001b[0m \u001b[0;34m[\u001b[0m\u001b[0;34m]\u001b[0m\u001b[0;34m\u001b[0m\u001b[0;34m\u001b[0m\u001b[0m\n\u001b[1;32m     11\u001b[0m   \u001b[0;32mwhile\u001b[0m\u001b[0;34m(\u001b[0m\u001b[0mcount\u001b[0m \u001b[0;34m<\u001b[0m \u001b[0;36m7\u001b[0m\u001b[0;34m)\u001b[0m\u001b[0;34m:\u001b[0m\u001b[0;34m\u001b[0m\u001b[0;34m\u001b[0m\u001b[0m\n\u001b[0;32m---> 12\u001b[0;31m     \u001b[0;32mif\u001b[0m \u001b[0mprimeTester\u001b[0m\u001b[0;34m(\u001b[0m\u001b[0mnumber\u001b[0m\u001b[0;34m)\u001b[0m\u001b[0;34m:\u001b[0m\u001b[0;34m\u001b[0m\u001b[0;34m\u001b[0m\u001b[0m\n\u001b[0m\u001b[1;32m     13\u001b[0m       \u001b[0;32mfor\u001b[0m \u001b[0mi\u001b[0m \u001b[0;32min\u001b[0m \u001b[0;34m[\u001b[0m\u001b[0mi\u001b[0m \u001b[0;32mfor\u001b[0m \u001b[0mi\u001b[0m \u001b[0;32min\u001b[0m \u001b[0mrange\u001b[0m\u001b[0;34m(\u001b[0m\u001b[0mnumber\u001b[0m\u001b[0;34m)\u001b[0m \u001b[0;32mif\u001b[0m \u001b[0;36m2\u001b[0m\u001b[0;34m**\u001b[0m\u001b[0mi\u001b[0m\u001b[0;34m-\u001b[0m\u001b[0;36m1\u001b[0m\u001b[0;34m<=\u001b[0m\u001b[0mnumber\u001b[0m\u001b[0;34m]\u001b[0m\u001b[0;34m:\u001b[0m\u001b[0;34m\u001b[0m\u001b[0;34m\u001b[0m\u001b[0m\n\u001b[1;32m     14\u001b[0m         \u001b[0;32mif\u001b[0m \u001b[0;36m2\u001b[0m\u001b[0;34m**\u001b[0m\u001b[0mi\u001b[0m\u001b[0;34m-\u001b[0m\u001b[0;36m1\u001b[0m\u001b[0;34m==\u001b[0m\u001b[0mnumber\u001b[0m\u001b[0;34m:\u001b[0m\u001b[0;34m\u001b[0m\u001b[0;34m\u001b[0m\u001b[0m\n",
            "\u001b[0;32m<ipython-input-42-a102b374335e>\u001b[0m in \u001b[0;36mprimeTester\u001b[0;34m(n)\u001b[0m\n\u001b[0;32m----> 1\u001b[0;31m \u001b[0;32mdef\u001b[0m \u001b[0mprimeTester\u001b[0m\u001b[0;34m(\u001b[0m\u001b[0mn\u001b[0m\u001b[0;34m)\u001b[0m\u001b[0;34m:\u001b[0m\u001b[0;34m\u001b[0m\u001b[0;34m\u001b[0m\u001b[0m\n\u001b[0m\u001b[1;32m      2\u001b[0m   \u001b[0;32mfor\u001b[0m \u001b[0mi\u001b[0m \u001b[0;32min\u001b[0m \u001b[0;34m[\u001b[0m\u001b[0mi\u001b[0m \u001b[0;32mfor\u001b[0m \u001b[0mi\u001b[0m \u001b[0;32min\u001b[0m \u001b[0mrange\u001b[0m\u001b[0;34m(\u001b[0m\u001b[0;36m2\u001b[0m\u001b[0;34m,\u001b[0m\u001b[0mn\u001b[0m\u001b[0;34m)\u001b[0m \u001b[0;32mif\u001b[0m \u001b[0mi\u001b[0m\u001b[0;34m*\u001b[0m\u001b[0mi\u001b[0m\u001b[0;34m<\u001b[0m\u001b[0mn\u001b[0m\u001b[0;34m]\u001b[0m\u001b[0;34m:\u001b[0m\u001b[0;34m\u001b[0m\u001b[0;34m\u001b[0m\u001b[0m\n\u001b[1;32m      3\u001b[0m     \u001b[0;32mif\u001b[0m \u001b[0mn\u001b[0m\u001b[0;34m%\u001b[0m\u001b[0mi\u001b[0m\u001b[0;34m==\u001b[0m\u001b[0;36m0\u001b[0m\u001b[0;34m:\u001b[0m\u001b[0;34m\u001b[0m\u001b[0;34m\u001b[0m\u001b[0m\n\u001b[1;32m      4\u001b[0m       \u001b[0;32mreturn\u001b[0m \u001b[0;32mFalse\u001b[0m\u001b[0;34m\u001b[0m\u001b[0;34m\u001b[0m\u001b[0m\n\u001b[1;32m      5\u001b[0m   \u001b[0;32mreturn\u001b[0m \u001b[0;32mTrue\u001b[0m\u001b[0;34m\u001b[0m\u001b[0;34m\u001b[0m\u001b[0m\n",
            "\u001b[0;31mKeyboardInterrupt\u001b[0m: "
          ]
        }
      ]
    },
    {
      "cell_type": "markdown",
      "source": [
        "Initialize a 5 by 5 array in numpy to all zeros. Then add 2 to the second and fourth rows of it, and then add 3 to the first, third, and fifth columns. Print out the result.\n",
        "\n",
        "Paste your code in the box below."
      ],
      "metadata": {
        "id": "xDo2eOwBe8Cd"
      }
    },
    {
      "cell_type": "code",
      "source": [
        "import numpy as np\n",
        "x = np.zeros((5,5))\n",
        "x[1]+=2\n",
        "x[4]+=2\n",
        "x[:,0]+=3\n",
        "x[:,2]+=3\n",
        "x[:,4]+=3\n",
        "print(x)"
      ],
      "metadata": {
        "colab": {
          "base_uri": "https://localhost:8080/"
        },
        "id": "6ORaOfdUe8MH",
        "outputId": "7940e777-c004-4c00-9f41-2cd2a8088b0b"
      },
      "execution_count": null,
      "outputs": [
        {
          "output_type": "execute_result",
          "data": {
            "text/plain": [
              "array([[3., 0., 3., 0., 3.],\n",
              "       [5., 2., 5., 2., 5.],\n",
              "       [3., 0., 3., 0., 3.],\n",
              "       [3., 0., 3., 0., 3.],\n",
              "       [5., 2., 5., 2., 5.]])"
            ]
          },
          "metadata": {},
          "execution_count": 19
        }
      ]
    },
    {
      "cell_type": "code",
      "source": [],
      "metadata": {
        "id": "EK6ht-lVlcOe"
      },
      "execution_count": null,
      "outputs": []
    },
    {
      "cell_type": "markdown",
      "source": [
        "Create a 10 by 10 numpy array with ones in the first row, last row, first column and last column and zeros inside. Reshape it to a 20 by 5 array. Then use the sum method to find out how many ones are in the first two columns of the 20 by 5 array. (Do not just count them manually.)"
      ],
      "metadata": {
        "id": "T6qAa6JLlx-B"
      }
    },
    {
      "cell_type": "code",
      "source": [
        "import numpy as np\n",
        "x = np.zeros((10,10))\n",
        "x[0,:]=1\n",
        "x[9,:]=1\n",
        "x[:,0]=1\n",
        "x[:,9]=1\n",
        "x.shape = (20,5)\n",
        "y = np.sum(x[:,0:2])\n",
        "\n",
        "print(y)\n",
        "x"
      ],
      "metadata": {
        "colab": {
          "base_uri": "https://localhost:8080/"
        },
        "id": "Df1P5Cxulz-w",
        "outputId": "41374092-ee0c-49fc-e347-774043d0e7bc"
      },
      "execution_count": null,
      "outputs": [
        {
          "output_type": "stream",
          "name": "stdout",
          "text": [
            "16.0\n"
          ]
        },
        {
          "output_type": "execute_result",
          "data": {
            "text/plain": [
              "array([[1., 1., 1., 1., 1.],\n",
              "       [1., 1., 1., 1., 1.],\n",
              "       [1., 0., 0., 0., 0.],\n",
              "       [0., 0., 0., 0., 1.],\n",
              "       [1., 0., 0., 0., 0.],\n",
              "       [0., 0., 0., 0., 1.],\n",
              "       [1., 0., 0., 0., 0.],\n",
              "       [0., 0., 0., 0., 1.],\n",
              "       [1., 0., 0., 0., 0.],\n",
              "       [0., 0., 0., 0., 1.],\n",
              "       [1., 0., 0., 0., 0.],\n",
              "       [0., 0., 0., 0., 1.],\n",
              "       [1., 0., 0., 0., 0.],\n",
              "       [0., 0., 0., 0., 1.],\n",
              "       [1., 0., 0., 0., 0.],\n",
              "       [0., 0., 0., 0., 1.],\n",
              "       [1., 0., 0., 0., 0.],\n",
              "       [0., 0., 0., 0., 1.],\n",
              "       [1., 1., 1., 1., 1.],\n",
              "       [1., 1., 1., 1., 1.]])"
            ]
          },
          "metadata": {},
          "execution_count": 24
        }
      ]
    },
    {
      "cell_type": "markdown",
      "source": [
        "Using pandas, import the file \"us_school_list.csv\" in our class data folder into a dataframe. This is a recent list of all of the primary and secondary schools in the U.S. You should get the columns SCHOOL_NAME, LEA_NAME, STATE, SCHOOL_TYPE, and LEVEL.\n",
        "\n",
        "Issue pandas commands to calculate and print out the number of schools per state, the number of schools of each type (\"SCHOOL_TYPE\" column) and the number of schools at each level.\n",
        "\n",
        "The \"LEA_NAME\" gives the name of the \"local education authority\" which is a district administering a set of schools. Create a dataframe which counts the schools in each LEA_NAME in descending order and print it out.\n",
        "\n",
        "Paste your code in the box below."
      ],
      "metadata": {
        "id": "RB_e7MYjmu5T"
      }
    },
    {
      "cell_type": "code",
      "source": [
        "from google.colab import drive\n",
        "drive.mount('/content/drive')"
      ],
      "metadata": {
        "colab": {
          "base_uri": "https://localhost:8080/"
        },
        "id": "qYm2HQBppUA_",
        "outputId": "6720c825-2de8-44d8-bf02-0092a99b8579"
      },
      "execution_count": 3,
      "outputs": [
        {
          "output_type": "stream",
          "name": "stdout",
          "text": [
            "Mounted at /content/drive\n"
          ]
        }
      ]
    },
    {
      "cell_type": "code",
      "source": [
        "import pandas as pd\n",
        "states = pd.read_csv(\"/content/drive/MyDrive/data/us_school_list.csv\").groupby(['STATE','SCHOOL_NAME', 'LEA_NAME', 'SCHOOL_TYPE', 'LEVEL' ]).sum()\n",
        "#print(states['STATE'].value_counts())\n",
        "#print(states['SCHOOL_TYPE'].value_counts())\n",
        "#print(states['LEVEL'].value_counts())\n",
        "states['STATE_COUNTS'] = states['STATE'].value_counts()\n",
        "states\n",
        "#states_auth = states['LEA_NAME'].value_counts()\n",
        "#states_auth=states_auth.sort_values(ascending=False)\n",
        "#states.mergepd.merge(a, b, on='k', how='outer')\n",
        "#states_auth"
      ],
      "metadata": {
        "colab": {
          "base_uri": "https://localhost:8080/",
          "height": 501
        },
        "id": "zaZZILL_mjuO",
        "outputId": "584d69bc-8217-4107-dbfd-0ef4683dcda5"
      },
      "execution_count": 11,
      "outputs": [
        {
          "output_type": "error",
          "ename": "KeyError",
          "evalue": "ignored",
          "traceback": [
            "\u001b[0;31m---------------------------------------------------------------------------\u001b[0m",
            "\u001b[0;31mKeyError\u001b[0m                                  Traceback (most recent call last)",
            "\u001b[0;32m/usr/local/lib/python3.7/dist-packages/pandas/core/indexes/base.py\u001b[0m in \u001b[0;36mget_loc\u001b[0;34m(self, key, method, tolerance)\u001b[0m\n\u001b[1;32m   3360\u001b[0m             \u001b[0;32mtry\u001b[0m\u001b[0;34m:\u001b[0m\u001b[0;34m\u001b[0m\u001b[0;34m\u001b[0m\u001b[0m\n\u001b[0;32m-> 3361\u001b[0;31m                 \u001b[0;32mreturn\u001b[0m \u001b[0mself\u001b[0m\u001b[0;34m.\u001b[0m\u001b[0m_engine\u001b[0m\u001b[0;34m.\u001b[0m\u001b[0mget_loc\u001b[0m\u001b[0;34m(\u001b[0m\u001b[0mcasted_key\u001b[0m\u001b[0;34m)\u001b[0m\u001b[0;34m\u001b[0m\u001b[0;34m\u001b[0m\u001b[0m\n\u001b[0m\u001b[1;32m   3362\u001b[0m             \u001b[0;32mexcept\u001b[0m \u001b[0mKeyError\u001b[0m \u001b[0;32mas\u001b[0m \u001b[0merr\u001b[0m\u001b[0;34m:\u001b[0m\u001b[0;34m\u001b[0m\u001b[0;34m\u001b[0m\u001b[0m\n",
            "\u001b[0;32m/usr/local/lib/python3.7/dist-packages/pandas/_libs/index.pyx\u001b[0m in \u001b[0;36mpandas._libs.index.IndexEngine.get_loc\u001b[0;34m()\u001b[0m\n",
            "\u001b[0;32m/usr/local/lib/python3.7/dist-packages/pandas/_libs/index.pyx\u001b[0m in \u001b[0;36mpandas._libs.index.IndexEngine.get_loc\u001b[0;34m()\u001b[0m\n",
            "\u001b[0;32mpandas/_libs/hashtable_class_helper.pxi\u001b[0m in \u001b[0;36mpandas._libs.hashtable.PyObjectHashTable.get_item\u001b[0;34m()\u001b[0m\n",
            "\u001b[0;32mpandas/_libs/hashtable_class_helper.pxi\u001b[0m in \u001b[0;36mpandas._libs.hashtable.PyObjectHashTable.get_item\u001b[0;34m()\u001b[0m\n",
            "\u001b[0;31mKeyError\u001b[0m: 'STATE'",
            "\nThe above exception was the direct cause of the following exception:\n",
            "\u001b[0;31mKeyError\u001b[0m                                  Traceback (most recent call last)",
            "\u001b[0;32m<ipython-input-11-8306fc95a5d1>\u001b[0m in \u001b[0;36m<module>\u001b[0;34m\u001b[0m\n\u001b[1;32m      4\u001b[0m \u001b[0;31m#print(states['SCHOOL_TYPE'].value_counts())\u001b[0m\u001b[0;34m\u001b[0m\u001b[0;34m\u001b[0m\u001b[0;34m\u001b[0m\u001b[0m\n\u001b[1;32m      5\u001b[0m \u001b[0;31m#print(states['LEVEL'].value_counts())\u001b[0m\u001b[0;34m\u001b[0m\u001b[0;34m\u001b[0m\u001b[0;34m\u001b[0m\u001b[0m\n\u001b[0;32m----> 6\u001b[0;31m \u001b[0mstates\u001b[0m\u001b[0;34m[\u001b[0m\u001b[0;34m'STATE_COUNTS'\u001b[0m\u001b[0;34m]\u001b[0m \u001b[0;34m=\u001b[0m \u001b[0mstates\u001b[0m\u001b[0;34m[\u001b[0m\u001b[0;34m'STATE'\u001b[0m\u001b[0;34m]\u001b[0m\u001b[0;34m.\u001b[0m\u001b[0mvalue_counts\u001b[0m\u001b[0;34m(\u001b[0m\u001b[0;34m)\u001b[0m\u001b[0;34m\u001b[0m\u001b[0;34m\u001b[0m\u001b[0m\n\u001b[0m\u001b[1;32m      7\u001b[0m \u001b[0mstates\u001b[0m\u001b[0;34m\u001b[0m\u001b[0;34m\u001b[0m\u001b[0m\n\u001b[1;32m      8\u001b[0m \u001b[0;31m#states_auth = states['LEA_NAME'].value_counts()\u001b[0m\u001b[0;34m\u001b[0m\u001b[0;34m\u001b[0m\u001b[0;34m\u001b[0m\u001b[0m\n",
            "\u001b[0;32m/usr/local/lib/python3.7/dist-packages/pandas/core/frame.py\u001b[0m in \u001b[0;36m__getitem__\u001b[0;34m(self, key)\u001b[0m\n\u001b[1;32m   3456\u001b[0m             \u001b[0;32mif\u001b[0m \u001b[0mself\u001b[0m\u001b[0;34m.\u001b[0m\u001b[0mcolumns\u001b[0m\u001b[0;34m.\u001b[0m\u001b[0mnlevels\u001b[0m \u001b[0;34m>\u001b[0m \u001b[0;36m1\u001b[0m\u001b[0;34m:\u001b[0m\u001b[0;34m\u001b[0m\u001b[0;34m\u001b[0m\u001b[0m\n\u001b[1;32m   3457\u001b[0m                 \u001b[0;32mreturn\u001b[0m \u001b[0mself\u001b[0m\u001b[0;34m.\u001b[0m\u001b[0m_getitem_multilevel\u001b[0m\u001b[0;34m(\u001b[0m\u001b[0mkey\u001b[0m\u001b[0;34m)\u001b[0m\u001b[0;34m\u001b[0m\u001b[0;34m\u001b[0m\u001b[0m\n\u001b[0;32m-> 3458\u001b[0;31m             \u001b[0mindexer\u001b[0m \u001b[0;34m=\u001b[0m \u001b[0mself\u001b[0m\u001b[0;34m.\u001b[0m\u001b[0mcolumns\u001b[0m\u001b[0;34m.\u001b[0m\u001b[0mget_loc\u001b[0m\u001b[0;34m(\u001b[0m\u001b[0mkey\u001b[0m\u001b[0;34m)\u001b[0m\u001b[0;34m\u001b[0m\u001b[0;34m\u001b[0m\u001b[0m\n\u001b[0m\u001b[1;32m   3459\u001b[0m             \u001b[0;32mif\u001b[0m \u001b[0mis_integer\u001b[0m\u001b[0;34m(\u001b[0m\u001b[0mindexer\u001b[0m\u001b[0;34m)\u001b[0m\u001b[0;34m:\u001b[0m\u001b[0;34m\u001b[0m\u001b[0;34m\u001b[0m\u001b[0m\n\u001b[1;32m   3460\u001b[0m                 \u001b[0mindexer\u001b[0m \u001b[0;34m=\u001b[0m \u001b[0;34m[\u001b[0m\u001b[0mindexer\u001b[0m\u001b[0;34m]\u001b[0m\u001b[0;34m\u001b[0m\u001b[0;34m\u001b[0m\u001b[0m\n",
            "\u001b[0;32m/usr/local/lib/python3.7/dist-packages/pandas/core/indexes/base.py\u001b[0m in \u001b[0;36mget_loc\u001b[0;34m(self, key, method, tolerance)\u001b[0m\n\u001b[1;32m   3361\u001b[0m                 \u001b[0;32mreturn\u001b[0m \u001b[0mself\u001b[0m\u001b[0;34m.\u001b[0m\u001b[0m_engine\u001b[0m\u001b[0;34m.\u001b[0m\u001b[0mget_loc\u001b[0m\u001b[0;34m(\u001b[0m\u001b[0mcasted_key\u001b[0m\u001b[0;34m)\u001b[0m\u001b[0;34m\u001b[0m\u001b[0;34m\u001b[0m\u001b[0m\n\u001b[1;32m   3362\u001b[0m             \u001b[0;32mexcept\u001b[0m \u001b[0mKeyError\u001b[0m \u001b[0;32mas\u001b[0m \u001b[0merr\u001b[0m\u001b[0;34m:\u001b[0m\u001b[0;34m\u001b[0m\u001b[0;34m\u001b[0m\u001b[0m\n\u001b[0;32m-> 3363\u001b[0;31m                 \u001b[0;32mraise\u001b[0m \u001b[0mKeyError\u001b[0m\u001b[0;34m(\u001b[0m\u001b[0mkey\u001b[0m\u001b[0;34m)\u001b[0m \u001b[0;32mfrom\u001b[0m \u001b[0merr\u001b[0m\u001b[0;34m\u001b[0m\u001b[0;34m\u001b[0m\u001b[0m\n\u001b[0m\u001b[1;32m   3364\u001b[0m \u001b[0;34m\u001b[0m\u001b[0m\n\u001b[1;32m   3365\u001b[0m         \u001b[0;32mif\u001b[0m \u001b[0mis_scalar\u001b[0m\u001b[0;34m(\u001b[0m\u001b[0mkey\u001b[0m\u001b[0;34m)\u001b[0m \u001b[0;32mand\u001b[0m \u001b[0misna\u001b[0m\u001b[0;34m(\u001b[0m\u001b[0mkey\u001b[0m\u001b[0;34m)\u001b[0m \u001b[0;32mand\u001b[0m \u001b[0;32mnot\u001b[0m \u001b[0mself\u001b[0m\u001b[0;34m.\u001b[0m\u001b[0mhasnans\u001b[0m\u001b[0;34m:\u001b[0m\u001b[0;34m\u001b[0m\u001b[0;34m\u001b[0m\u001b[0m\n",
            "\u001b[0;31mKeyError\u001b[0m: 'STATE'"
          ]
        }
      ]
    },
    {
      "cell_type": "markdown",
      "source": [
        "Read in the file \"state_populations_and_densities.csv\" from the class data directory into a dataframe. Convert all of the column names to upper case, and then convert all of the state names in the \"STATE\" column to upper case as well. Save these changes to the dataframe and print it."
      ],
      "metadata": {
        "id": "BOYzB-cDmvdh"
      }
    },
    {
      "cell_type": "code",
      "source": [
        "import pandas as pd\n",
        "states = pd.read_csv(\"/content/drive/MyDrive/data/state_populations_and_densities.csv\")\n",
        "states.columns = list(map(lambda n: str(n).upper(),states.columns))\n",
        "states"
      ],
      "metadata": {
        "colab": {
          "base_uri": "https://localhost:8080/",
          "height": 1000
        },
        "id": "NKjbXHq_mKIz",
        "outputId": "2d726abc-c3c6-4c08-d4df-941ad38cdb7f"
      },
      "execution_count": null,
      "outputs": [
        {
          "output_type": "execute_result",
          "data": {
            "text/plain": [
              "             STATE       POP    DENSITY\n",
              "0       California  39995077   256.7424\n",
              "1            Texas  29945493   114.6318\n",
              "2          Florida  22085563   411.8520\n",
              "3         New York  20365879   432.1580\n",
              "4     Pennsylvania  13062764   291.9510\n",
              "5         Illinois  12808884   230.7117\n",
              "6             Ohio  11852036   290.0574\n",
              "7          Georgia  10916760   189.8138\n",
              "8   North Carolina  10620168   218.4411\n",
              "9         Michigan  10116069   178.9220\n",
              "10      New Jersey   9388414  1276.6405\n",
              "11        Virginia   8757467   221.7642\n",
              "12      Washington   7901429   118.8971\n",
              "13         Arizona   7303398    64.2939\n",
              "14   Massachusetts   7126375   913.6378\n",
              "15       Tennessee   7023788   170.3356\n",
              "16         Indiana   6845874   191.0868\n",
              "17        Maryland   6257958   644.6851\n",
              "18        Missouri   6188111    90.0194\n",
              "19       Wisconsin   5935064   109.5879\n",
              "20        Colorado   5922618    57.1450\n",
              "21       Minnesota   5787008    72.6765\n",
              "22  South Carolina   5217037   173.5484\n",
              "23         Alabama   5073187   100.1715\n",
              "24       Louisiana   4682633   108.3842\n",
              "25        Kentucky   4539130   114.9554\n",
              "26          Oregon   4318492    44.9899\n",
              "27        Oklahoma   4000953    58.3272\n",
              "28     Connecticut   3612314   746.0376\n",
              "29            Utah   3373162    41.0510\n",
              "30            Iowa   3219171    57.6324\n",
              "31          Nevada   3185426    29.0162\n",
              "32        Arkansas   3030646    58.2425\n",
              "33     Mississippi   2960075    63.0837\n",
              "34          Kansas   2954832    36.1408\n",
              "35      New Mexico   2129190    17.5534\n",
              "36        Nebraska   1988536    25.8843\n",
              "37           Idaho   1893410    22.9107\n",
              "38   West Virginia   1781860    74.1268\n",
              "39          Hawaii   1474265   229.5290\n",
              "40   New Hampshire   1389741   155.2263\n",
              "41           Maine   1369159    44.3912\n",
              "42    Rhode Island   1106341  1069.9623\n",
              "43         Montana   1103187     7.5796\n",
              "44        Delaware   1008350   517.3679\n",
              "45    South Dakota    901165    11.8870\n",
              "46    North Dakota    800394    11.5997\n",
              "47          Alaska    738023     1.2933\n",
              "48         Vermont    646545    70.1470\n",
              "49         Wyoming    579495     5.9685"
            ],
            "text/html": [
              "\n",
              "  <div id=\"df-c6da92f8-2930-47b9-a4de-e236a0858f0f\">\n",
              "    <div class=\"colab-df-container\">\n",
              "      <div>\n",
              "<style scoped>\n",
              "    .dataframe tbody tr th:only-of-type {\n",
              "        vertical-align: middle;\n",
              "    }\n",
              "\n",
              "    .dataframe tbody tr th {\n",
              "        vertical-align: top;\n",
              "    }\n",
              "\n",
              "    .dataframe thead th {\n",
              "        text-align: right;\n",
              "    }\n",
              "</style>\n",
              "<table border=\"1\" class=\"dataframe\">\n",
              "  <thead>\n",
              "    <tr style=\"text-align: right;\">\n",
              "      <th></th>\n",
              "      <th>STATE</th>\n",
              "      <th>POP</th>\n",
              "      <th>DENSITY</th>\n",
              "    </tr>\n",
              "  </thead>\n",
              "  <tbody>\n",
              "    <tr>\n",
              "      <th>0</th>\n",
              "      <td>California</td>\n",
              "      <td>39995077</td>\n",
              "      <td>256.7424</td>\n",
              "    </tr>\n",
              "    <tr>\n",
              "      <th>1</th>\n",
              "      <td>Texas</td>\n",
              "      <td>29945493</td>\n",
              "      <td>114.6318</td>\n",
              "    </tr>\n",
              "    <tr>\n",
              "      <th>2</th>\n",
              "      <td>Florida</td>\n",
              "      <td>22085563</td>\n",
              "      <td>411.8520</td>\n",
              "    </tr>\n",
              "    <tr>\n",
              "      <th>3</th>\n",
              "      <td>New York</td>\n",
              "      <td>20365879</td>\n",
              "      <td>432.1580</td>\n",
              "    </tr>\n",
              "    <tr>\n",
              "      <th>4</th>\n",
              "      <td>Pennsylvania</td>\n",
              "      <td>13062764</td>\n",
              "      <td>291.9510</td>\n",
              "    </tr>\n",
              "    <tr>\n",
              "      <th>5</th>\n",
              "      <td>Illinois</td>\n",
              "      <td>12808884</td>\n",
              "      <td>230.7117</td>\n",
              "    </tr>\n",
              "    <tr>\n",
              "      <th>6</th>\n",
              "      <td>Ohio</td>\n",
              "      <td>11852036</td>\n",
              "      <td>290.0574</td>\n",
              "    </tr>\n",
              "    <tr>\n",
              "      <th>7</th>\n",
              "      <td>Georgia</td>\n",
              "      <td>10916760</td>\n",
              "      <td>189.8138</td>\n",
              "    </tr>\n",
              "    <tr>\n",
              "      <th>8</th>\n",
              "      <td>North Carolina</td>\n",
              "      <td>10620168</td>\n",
              "      <td>218.4411</td>\n",
              "    </tr>\n",
              "    <tr>\n",
              "      <th>9</th>\n",
              "      <td>Michigan</td>\n",
              "      <td>10116069</td>\n",
              "      <td>178.9220</td>\n",
              "    </tr>\n",
              "    <tr>\n",
              "      <th>10</th>\n",
              "      <td>New Jersey</td>\n",
              "      <td>9388414</td>\n",
              "      <td>1276.6405</td>\n",
              "    </tr>\n",
              "    <tr>\n",
              "      <th>11</th>\n",
              "      <td>Virginia</td>\n",
              "      <td>8757467</td>\n",
              "      <td>221.7642</td>\n",
              "    </tr>\n",
              "    <tr>\n",
              "      <th>12</th>\n",
              "      <td>Washington</td>\n",
              "      <td>7901429</td>\n",
              "      <td>118.8971</td>\n",
              "    </tr>\n",
              "    <tr>\n",
              "      <th>13</th>\n",
              "      <td>Arizona</td>\n",
              "      <td>7303398</td>\n",
              "      <td>64.2939</td>\n",
              "    </tr>\n",
              "    <tr>\n",
              "      <th>14</th>\n",
              "      <td>Massachusetts</td>\n",
              "      <td>7126375</td>\n",
              "      <td>913.6378</td>\n",
              "    </tr>\n",
              "    <tr>\n",
              "      <th>15</th>\n",
              "      <td>Tennessee</td>\n",
              "      <td>7023788</td>\n",
              "      <td>170.3356</td>\n",
              "    </tr>\n",
              "    <tr>\n",
              "      <th>16</th>\n",
              "      <td>Indiana</td>\n",
              "      <td>6845874</td>\n",
              "      <td>191.0868</td>\n",
              "    </tr>\n",
              "    <tr>\n",
              "      <th>17</th>\n",
              "      <td>Maryland</td>\n",
              "      <td>6257958</td>\n",
              "      <td>644.6851</td>\n",
              "    </tr>\n",
              "    <tr>\n",
              "      <th>18</th>\n",
              "      <td>Missouri</td>\n",
              "      <td>6188111</td>\n",
              "      <td>90.0194</td>\n",
              "    </tr>\n",
              "    <tr>\n",
              "      <th>19</th>\n",
              "      <td>Wisconsin</td>\n",
              "      <td>5935064</td>\n",
              "      <td>109.5879</td>\n",
              "    </tr>\n",
              "    <tr>\n",
              "      <th>20</th>\n",
              "      <td>Colorado</td>\n",
              "      <td>5922618</td>\n",
              "      <td>57.1450</td>\n",
              "    </tr>\n",
              "    <tr>\n",
              "      <th>21</th>\n",
              "      <td>Minnesota</td>\n",
              "      <td>5787008</td>\n",
              "      <td>72.6765</td>\n",
              "    </tr>\n",
              "    <tr>\n",
              "      <th>22</th>\n",
              "      <td>South Carolina</td>\n",
              "      <td>5217037</td>\n",
              "      <td>173.5484</td>\n",
              "    </tr>\n",
              "    <tr>\n",
              "      <th>23</th>\n",
              "      <td>Alabama</td>\n",
              "      <td>5073187</td>\n",
              "      <td>100.1715</td>\n",
              "    </tr>\n",
              "    <tr>\n",
              "      <th>24</th>\n",
              "      <td>Louisiana</td>\n",
              "      <td>4682633</td>\n",
              "      <td>108.3842</td>\n",
              "    </tr>\n",
              "    <tr>\n",
              "      <th>25</th>\n",
              "      <td>Kentucky</td>\n",
              "      <td>4539130</td>\n",
              "      <td>114.9554</td>\n",
              "    </tr>\n",
              "    <tr>\n",
              "      <th>26</th>\n",
              "      <td>Oregon</td>\n",
              "      <td>4318492</td>\n",
              "      <td>44.9899</td>\n",
              "    </tr>\n",
              "    <tr>\n",
              "      <th>27</th>\n",
              "      <td>Oklahoma</td>\n",
              "      <td>4000953</td>\n",
              "      <td>58.3272</td>\n",
              "    </tr>\n",
              "    <tr>\n",
              "      <th>28</th>\n",
              "      <td>Connecticut</td>\n",
              "      <td>3612314</td>\n",
              "      <td>746.0376</td>\n",
              "    </tr>\n",
              "    <tr>\n",
              "      <th>29</th>\n",
              "      <td>Utah</td>\n",
              "      <td>3373162</td>\n",
              "      <td>41.0510</td>\n",
              "    </tr>\n",
              "    <tr>\n",
              "      <th>30</th>\n",
              "      <td>Iowa</td>\n",
              "      <td>3219171</td>\n",
              "      <td>57.6324</td>\n",
              "    </tr>\n",
              "    <tr>\n",
              "      <th>31</th>\n",
              "      <td>Nevada</td>\n",
              "      <td>3185426</td>\n",
              "      <td>29.0162</td>\n",
              "    </tr>\n",
              "    <tr>\n",
              "      <th>32</th>\n",
              "      <td>Arkansas</td>\n",
              "      <td>3030646</td>\n",
              "      <td>58.2425</td>\n",
              "    </tr>\n",
              "    <tr>\n",
              "      <th>33</th>\n",
              "      <td>Mississippi</td>\n",
              "      <td>2960075</td>\n",
              "      <td>63.0837</td>\n",
              "    </tr>\n",
              "    <tr>\n",
              "      <th>34</th>\n",
              "      <td>Kansas</td>\n",
              "      <td>2954832</td>\n",
              "      <td>36.1408</td>\n",
              "    </tr>\n",
              "    <tr>\n",
              "      <th>35</th>\n",
              "      <td>New Mexico</td>\n",
              "      <td>2129190</td>\n",
              "      <td>17.5534</td>\n",
              "    </tr>\n",
              "    <tr>\n",
              "      <th>36</th>\n",
              "      <td>Nebraska</td>\n",
              "      <td>1988536</td>\n",
              "      <td>25.8843</td>\n",
              "    </tr>\n",
              "    <tr>\n",
              "      <th>37</th>\n",
              "      <td>Idaho</td>\n",
              "      <td>1893410</td>\n",
              "      <td>22.9107</td>\n",
              "    </tr>\n",
              "    <tr>\n",
              "      <th>38</th>\n",
              "      <td>West Virginia</td>\n",
              "      <td>1781860</td>\n",
              "      <td>74.1268</td>\n",
              "    </tr>\n",
              "    <tr>\n",
              "      <th>39</th>\n",
              "      <td>Hawaii</td>\n",
              "      <td>1474265</td>\n",
              "      <td>229.5290</td>\n",
              "    </tr>\n",
              "    <tr>\n",
              "      <th>40</th>\n",
              "      <td>New Hampshire</td>\n",
              "      <td>1389741</td>\n",
              "      <td>155.2263</td>\n",
              "    </tr>\n",
              "    <tr>\n",
              "      <th>41</th>\n",
              "      <td>Maine</td>\n",
              "      <td>1369159</td>\n",
              "      <td>44.3912</td>\n",
              "    </tr>\n",
              "    <tr>\n",
              "      <th>42</th>\n",
              "      <td>Rhode Island</td>\n",
              "      <td>1106341</td>\n",
              "      <td>1069.9623</td>\n",
              "    </tr>\n",
              "    <tr>\n",
              "      <th>43</th>\n",
              "      <td>Montana</td>\n",
              "      <td>1103187</td>\n",
              "      <td>7.5796</td>\n",
              "    </tr>\n",
              "    <tr>\n",
              "      <th>44</th>\n",
              "      <td>Delaware</td>\n",
              "      <td>1008350</td>\n",
              "      <td>517.3679</td>\n",
              "    </tr>\n",
              "    <tr>\n",
              "      <th>45</th>\n",
              "      <td>South Dakota</td>\n",
              "      <td>901165</td>\n",
              "      <td>11.8870</td>\n",
              "    </tr>\n",
              "    <tr>\n",
              "      <th>46</th>\n",
              "      <td>North Dakota</td>\n",
              "      <td>800394</td>\n",
              "      <td>11.5997</td>\n",
              "    </tr>\n",
              "    <tr>\n",
              "      <th>47</th>\n",
              "      <td>Alaska</td>\n",
              "      <td>738023</td>\n",
              "      <td>1.2933</td>\n",
              "    </tr>\n",
              "    <tr>\n",
              "      <th>48</th>\n",
              "      <td>Vermont</td>\n",
              "      <td>646545</td>\n",
              "      <td>70.1470</td>\n",
              "    </tr>\n",
              "    <tr>\n",
              "      <th>49</th>\n",
              "      <td>Wyoming</td>\n",
              "      <td>579495</td>\n",
              "      <td>5.9685</td>\n",
              "    </tr>\n",
              "  </tbody>\n",
              "</table>\n",
              "</div>\n",
              "      <button class=\"colab-df-convert\" onclick=\"convertToInteractive('df-c6da92f8-2930-47b9-a4de-e236a0858f0f')\"\n",
              "              title=\"Convert this dataframe to an interactive table.\"\n",
              "              style=\"display:none;\">\n",
              "        \n",
              "  <svg xmlns=\"http://www.w3.org/2000/svg\" height=\"24px\"viewBox=\"0 0 24 24\"\n",
              "       width=\"24px\">\n",
              "    <path d=\"M0 0h24v24H0V0z\" fill=\"none\"/>\n",
              "    <path d=\"M18.56 5.44l.94 2.06.94-2.06 2.06-.94-2.06-.94-.94-2.06-.94 2.06-2.06.94zm-11 1L8.5 8.5l.94-2.06 2.06-.94-2.06-.94L8.5 2.5l-.94 2.06-2.06.94zm10 10l.94 2.06.94-2.06 2.06-.94-2.06-.94-.94-2.06-.94 2.06-2.06.94z\"/><path d=\"M17.41 7.96l-1.37-1.37c-.4-.4-.92-.59-1.43-.59-.52 0-1.04.2-1.43.59L10.3 9.45l-7.72 7.72c-.78.78-.78 2.05 0 2.83L4 21.41c.39.39.9.59 1.41.59.51 0 1.02-.2 1.41-.59l7.78-7.78 2.81-2.81c.8-.78.8-2.07 0-2.86zM5.41 20L4 18.59l7.72-7.72 1.47 1.35L5.41 20z\"/>\n",
              "  </svg>\n",
              "      </button>\n",
              "      \n",
              "  <style>\n",
              "    .colab-df-container {\n",
              "      display:flex;\n",
              "      flex-wrap:wrap;\n",
              "      gap: 12px;\n",
              "    }\n",
              "\n",
              "    .colab-df-convert {\n",
              "      background-color: #E8F0FE;\n",
              "      border: none;\n",
              "      border-radius: 50%;\n",
              "      cursor: pointer;\n",
              "      display: none;\n",
              "      fill: #1967D2;\n",
              "      height: 32px;\n",
              "      padding: 0 0 0 0;\n",
              "      width: 32px;\n",
              "    }\n",
              "\n",
              "    .colab-df-convert:hover {\n",
              "      background-color: #E2EBFA;\n",
              "      box-shadow: 0px 1px 2px rgba(60, 64, 67, 0.3), 0px 1px 3px 1px rgba(60, 64, 67, 0.15);\n",
              "      fill: #174EA6;\n",
              "    }\n",
              "\n",
              "    [theme=dark] .colab-df-convert {\n",
              "      background-color: #3B4455;\n",
              "      fill: #D2E3FC;\n",
              "    }\n",
              "\n",
              "    [theme=dark] .colab-df-convert:hover {\n",
              "      background-color: #434B5C;\n",
              "      box-shadow: 0px 1px 3px 1px rgba(0, 0, 0, 0.15);\n",
              "      filter: drop-shadow(0px 1px 2px rgba(0, 0, 0, 0.3));\n",
              "      fill: #FFFFFF;\n",
              "    }\n",
              "  </style>\n",
              "\n",
              "      <script>\n",
              "        const buttonEl =\n",
              "          document.querySelector('#df-c6da92f8-2930-47b9-a4de-e236a0858f0f button.colab-df-convert');\n",
              "        buttonEl.style.display =\n",
              "          google.colab.kernel.accessAllowed ? 'block' : 'none';\n",
              "\n",
              "        async function convertToInteractive(key) {\n",
              "          const element = document.querySelector('#df-c6da92f8-2930-47b9-a4de-e236a0858f0f');\n",
              "          const dataTable =\n",
              "            await google.colab.kernel.invokeFunction('convertToInteractive',\n",
              "                                                     [key], {});\n",
              "          if (!dataTable) return;\n",
              "\n",
              "          const docLinkHtml = 'Like what you see? Visit the ' +\n",
              "            '<a target=\"_blank\" href=https://colab.research.google.com/notebooks/data_table.ipynb>data table notebook</a>'\n",
              "            + ' to learn more about interactive tables.';\n",
              "          element.innerHTML = '';\n",
              "          dataTable['output_type'] = 'display_data';\n",
              "          await google.colab.output.renderOutput(dataTable, element);\n",
              "          const docLink = document.createElement('div');\n",
              "          docLink.innerHTML = docLinkHtml;\n",
              "          element.appendChild(docLink);\n",
              "        }\n",
              "      </script>\n",
              "    </div>\n",
              "  </div>\n",
              "  "
            ]
          },
          "metadata": {},
          "execution_count": 54
        }
      ]
    },
    {
      "cell_type": "code",
      "source": [],
      "metadata": {
        "id": "sa-gLsP4nf-c"
      },
      "execution_count": null,
      "outputs": []
    },
    {
      "cell_type": "markdown",
      "source": [
        "Use an inner join to create a dataframe that has three columns and one row per state: count of schools by state (aggregated from the US school list data), population, and density. Name these columns \"SCHOOL_COUNT\", \"POP\", and \"DENSITY\". Print out this dataframe.\n",
        "\n",
        "This inner join should be missing two states that are not in the school data. Do an outer join instead of the inner join to see what they are. Which are they? (Note that the school data also contains other U.S. areas that are not states, but all of these are missing from the area and population table).\n",
        "\n",
        "Paste your code in the box below. Also give the names of the two missing states mentioned above."
      ],
      "metadata": {
        "id": "UG0uYZZToJQh"
      }
    },
    {
      "cell_type": "code",
      "source": [
        "import pandas as pd\n",
        "states = pd.read_csv(\"/content/drive/MyDrive/data/state_populations_and_densities.csv\")\n",
        "inner = states['']"
      ],
      "metadata": {
        "id": "4ONlmMPLoHv2"
      },
      "execution_count": null,
      "outputs": []
    },
    {
      "cell_type": "markdown",
      "source": [],
      "metadata": {
        "id": "CDVI7YGaoKM6"
      }
    }
  ]
}