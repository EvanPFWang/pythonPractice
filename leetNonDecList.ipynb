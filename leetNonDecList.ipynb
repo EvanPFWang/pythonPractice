{
 "cells": [
  {
   "cell_type": "code",
   "execution_count": null,
   "metadata": {},
   "outputs": [],
   "source": [
    "2289. Steps to Make Array Non-decreasing\n",
    "Medium\n",
    "Topics\n",
    "Companies\n",
    "Hint\n",
    "You are given a 0-indexed integer array nums. In one step, remove all elements nums[i] where nums[i - 1] > nums[i] for all 0 < i < nums.length.\n",
    "\n",
    "Return the number of steps performed until nums becomes a non-decreasing array.\n",
    "\n",
    " \n",
    "\n",
    "Example 1:\n",
    "\n",
    "Input: nums = [5,3,4,4,7,3,6,11,8,5,11]\n",
    "Output: 3\n",
    "Explanation: The following are the steps performed:\n",
    "- Step 1: [5,3,4,4,7,3,6,11,8,5,11] becomes [5,4,4,7,6,11,11]\n",
    "- Step 2: [5,4,4,7,6,11,11] becomes [5,4,7,11,11]\n",
    "- Step 3: [5,4,7,11,11] becomes [5,7,11,11]\n",
    "[5,7,11,11] is a non-decreasing array. Therefore, we return 3.\n",
    "Example 2:\n",
    "\n",
    "Input: nums = [4,5,7,7,13]\n",
    "Output: 0\n",
    "Explanation: nums is already a non-decreasing array. Therefore, we return 0.\n",
    " \n",
    "\n",
    "Constraints:\n",
    "\n",
    "1 <= nums.length <= 105\n",
    "1 <= nums[i] <= 109"
   ]
  },
  {
   "cell_type": "code",
   "execution_count": null,
   "metadata": {},
   "outputs": [],
   "source": [
    "class Solution:\n",
    "    def totalSteps(self, nums: List[int]) -> int:\n",
    "        stat = 0\n",
    "        curr = nums.copy()\n",
    "        rems = [0 for element in range(len(nums))]\n",
    "\n",
    "    \n",
    "        while   stats   ==  0:\n",
    "            for i in range(1,len(curr)):\n",
    "                if curr[i]<curr[i-1]:\n",
    "                        del(curr[i])\n",
    "        for i in range(1,len(nums)-1):\n",
    "            if rems[i]==0:\n",
    "                if nums[i]<nums[i-1]:\n",
    "                        rems[i]+=1\n",
    "            \n",
    "        \n",
    "                \n",
    "    "
   ]
  }
 ],
 "metadata": {
  "language_info": {
   "name": "python"
  }
 },
 "nbformat": 4,
 "nbformat_minor": 2
}
