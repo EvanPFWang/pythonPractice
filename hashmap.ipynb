{
 "cells": [
  {
   "cell_type": "code",
   "execution_count": null,
   "metadata": {},
   "outputs": [],
   "source": [
    "class hashmap:\n",
    "    def __init__(self):\n",
    "        self.body   =   []\n",
    "    class Node:\n",
    "        def __init__(self,address,value):\n",
    "            self.calKey =   address\n",
    "            self.elem  =   value\n",
    "            self.next   =   None\n",
    "            self.hash   =   self.custom_hash(calKey)\n",
    "    \n",
    "    def put(self,entry):\n",
    "        if  len(self.body)==0:"
   ]
  }
 ],
 "metadata": {
  "language_info": {
   "name": "python"
  }
 },
 "nbformat": 4,
 "nbformat_minor": 2
}
