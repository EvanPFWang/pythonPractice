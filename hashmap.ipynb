{
 "cells": [
  {
   "cell_type": "code",
   "execution_count": null,
   "metadata": {},
   "outputs": [],
   "source": [
    "class hashmap:\n",
    "    def __init__(self):\n",
    "        self.body   =   []\n",
    "    class Node:\n",
    "        def __init__(self,address,value):\n",
    "            self.calKey =   address\n",
    "            self.elem  =   value\n",
    "            self.next   =   None\n",
    "            self.hash   =   self.custom_hash(calKey)\n",
    "    \n",
    "    def put(self,key,val):\n",
    "\n",
    "        hash_code   =   self.custom_hash(key)\n",
    "        existNode   =   self.body.get(hash_code)\n",
    "#        entry       =   \n",
    "        if  len(self.body)==0:\n",
    "            self.body.push(self.Node(key,val))\n",
    "        #for(self.Node(entryHashNode.calKey,entryHashNode.elem))\n",
    "            #is this even necessary\n",
    "            #\n",
    "            #\n",
    "        if  hash_code   ==   0:\n",
    "            e   =   self.get(hash_code)\n",
    "            while   True:\n",
    "                if  existNode.calKey is  None:\n",
    "                    oldV    =   existNode.elem\n",
    "                    existNode.elem   =   val\n",
    "                    return  oldV\n",
    "                #\n",
    "                #existNode.next\n",
    "                #\n",
    "             \n",
    "        elif  existNode.hash   ==  hash_code   and (existNode.key  ==  key or existNode.key.equals(key)):\n",
    "            oldV =   existNode.elem\n",
    "            existNode.elem    =   val\n",
    "            return   oldV\n",
    "            existNode=existNode.next\n",
    "\n",
    "            #calc hashcode for key\n",
    "            #calc index to place Node\n",
    "                \n",
    "        new_Node    =   self.Node(key,val)\n",
    "        new_Node.next   =   self.body.get(hash_code)#shouldn't this just be =existNode\n",
    "        self.table[hash_code]   =   new_Node\n",
    "        return  None\n",
    "    #get returns the node address\n"
   ]
  }
 ],
 "metadata": {
  "language_info": {
   "name": "python"
  }
 },
 "nbformat": 4,
 "nbformat_minor": 2
}
