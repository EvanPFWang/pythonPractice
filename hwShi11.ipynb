{
 "cells": [
  {
   "metadata": {},
   "cell_type": "markdown",
   "source": [
    "**2**\n",
    "\n",
    "The second‐order centered finite‐difference formula is\n",
    "$$\n",
    "f^{(3)}(x_0)\n",
    "\\;=\\;\n",
    "\\frac{2\\bigl[f(x_0+h)-f(x_0-h)\\bigr]\n",
    "      \\;-\\;\n",
    "      \\bigl[f(x_0+2h)-f(x_0-2h)\\bigr]}{2\\,h^3}\n",
    "\\;-\\;\\frac{h^2}{4}\\,f^{(5)}(\\xi),\n",
    "$$\n",
    "where $(\\xi\\in[x_0-2h,x_0+2h])$ and the leading truncation error is\n",
    "$(\\displaystyle -\\tfrac{h^2}{4}f^{(5)}(\\xi))$."
   ],
   "id": "4aa0b4ffb72e040f"
  },
  {
   "metadata": {},
   "cell_type": "code",
   "outputs": [],
   "execution_count": null,
   "source": [
    "import numpy as np\n",
    "\n",
    "def third_derivative(f, x0, h):\n",
    "    f0 = f(x0)\n",
    "    f1 = f(x0 + h);   fm1 = f(x0 - h)\n",
    "    f2 = f(x0 + 2*h); fm2 = f(x0 - 2*h)\n",
    "    return (2*(f1 - fm1) - (f2 - fm2)) / (2*h**3)\n",
    "\n",
    "# Test function and true value\n",
    "f = np.exp\n",
    "true_val = 1.0  # f'''(0) for exp(x) = exp(0)\n",
    "\n",
    "# h values and storage\n",
    "hs = np.logspace(-1, -9, 9)\n",
    "approx = np.array([third_derivative(f, 0.0, h) for h in hs])\n",
    "errors = np.abs(approx - true_val)\n",
    "rates  = errors[:-1]/errors[1:]  # should ~4 for O(h^2)\n",
    "\n",
    "print(\"   h      approx       error      rate\")\n",
    "for h, a, e, r in zip(hs, approx, errors, np.append(rates, [np.nan])):\n",
    "    print(f\"{h:.1e}  {a:.9f}  {e:.2e}  {r:.2f}\")"
   ],
   "id": "initial_id"
  },
  {
   "metadata": {},
   "cell_type": "markdown",
   "source": [
    "As $(h\\to0)$, the roundoff error in floating‐point arithmetic scales\n",
    "\n",
    "\n",
    "$$\n",
    "\\text{(machine ε)}\\;\\times\\;\\frac{1}{h^3}\n",
    "\\;=\\;\n",
    "O\\!\\bigl(\\varepsilon\\,h^{-3}\\bigr),\n",
    "$$\n",
    "\n",
    "so very small \\(h\\) causes catastrophic cancellation and large errors"
   ],
   "id": "f14a462005fa28b7"
  },
  {
   "metadata": {
    "ExecuteTime": {
     "end_time": "2025-04-28T04:47:16.765771Z",
     "start_time": "2025-04-28T04:47:16.762929Z"
    }
   },
   "cell_type": "code",
   "source": "",
   "id": "3b199fb267359817",
   "outputs": [],
   "execution_count": null
  },
  {
   "metadata": {},
   "cell_type": "code",
   "outputs": [],
   "execution_count": null,
   "source": "",
   "id": "81fe56b2fe45be16"
  }
 ],
 "metadata": {
  "kernelspec": {
   "display_name": "Python 3",
   "language": "python",
   "name": "python3"
  },
  "language_info": {
   "codemirror_mode": {
    "name": "ipython",
    "version": 2
   },
   "file_extension": ".py",
   "mimetype": "text/x-python",
   "name": "python",
   "nbconvert_exporter": "python",
   "pygments_lexer": "ipython2",
   "version": "2.7.6"
  }
 },
 "nbformat": 4,
 "nbformat_minor": 5
}
