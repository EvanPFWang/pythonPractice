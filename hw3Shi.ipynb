{
 "cells": [
  {
   "cell_type": "code",
   "execution_count": null,
   "id": "initial_id",
   "metadata": {
    "collapsed": true
   },
   "outputs": [],
   "source": [
    "\\begin{proof}\n",
    "Let $A$ be an $n \\times n$ matrix where all row-sums are zero.\n",
    "Let $\\mathbf{1} = (1,1,\\ldots,1)^T$ be the vector of all ones.\n",
    "Then $A\\mathbf{1} = \\mathbf{0}$ since each component of $A\\mathbf{1}$ is the sum of the corresponding row of $A$.\n",
    "Therefore, $\\mathbf{1}$ is in the nullspace of $A$, i.e., $\\mathbf{1}$ is a non-zero vector such that $A\\mathbf{1} = \\mathbf{0}$.\n",
    "This proves that the nullspace of $A$ is non-trivial, and hence $A$ is singular.\n",
    "\\end{proof}"
   ]
  },
  {
   "metadata": {},
   "cell_type": "code",
   "outputs": [],
   "execution_count": null,
   "source": [
    "import numpy as np\n",
    "\n",
    "def is_singular_with_zero_row_sums():\n",
    "    # Create a sample matrix with zero row sums\n",
    "    A = np.array([[1, -2, 1],\n",
    "                  [2, -1, -1],\n",
    "                  [-3, 1, 2]])\n",
    "\n",
    "    #row sums are zero\n",
    "    row_sums = np.sum(A, axis=1)\n",
    "    print(\"Row sums:\", row_sums)\n",
    "\n",
    "    #check matrix singularity\n",
    "    det = np.linalg.det(A)\n",
    "    print(\"Determinant:\", det)\n",
    "\n",
    "    #verify [1,1,1] in the nullspace\n",
    "    ones = np.ones(3)\n",
    "    result = A @ ones\n",
    "    print(\"A * [1,1,1]:\", result)\n",
    "\n",
    "    return np.allclose(det, 0)\n",
    "\n",
    "is_singular_with_zero_row_sums()"
   ],
   "id": "93c2100b379d131"
  },
  {
   "metadata": {},
   "cell_type": "code",
   "outputs": [],
   "execution_count": null,
   "source": [
    "\\begin{proof}\n",
    "First, let's show we can reduce this to the case of diagonal matrices.\n",
    "Since $A$ is symmetric positive definite, by the spectral theorem, there exists an orthogonal matrix $Q$ and a diagonal matrix $D$ with positive entries such that $A = QDQ^T$.\n",
    "\n",
    "For any vector $x$:\n",
    "\\[\\|x\\|_A = \\sqrt{x^TAx} = \\sqrt{x^TQDQ^Tx} = \\sqrt{(Q^Tx)^TD(Q^Tx)} = \\|Q^Tx\\|_D\\]\n",
    "\n",
    "Since $Q$ is orthogonal, the map $x \\mapsto Q^Tx$ is a linear isometry. Therefore, it suffices to prove the norm properties for diagonal positive definite matrices.\n",
    "\n",
    "Let $A = \\text{diag}(a_1,\\ldots,a_n)$ with $a_i > 0$. We verify the norm properties:\n",
    "\n",
    "1. Positivity: For any $x \\neq 0$:\n",
    "\\[\\|x\\|_A = \\sqrt{\\sum_{i=1}^n a_ix_i^2} > 0\\]\n",
    "since all $a_i > 0$ and at least one $x_i \\neq 0$.\n",
    "\n",
    "2. Homogeneity: For any scalar $c$:\n",
    "\\[\\|cx\\|_A = \\sqrt{(cx)^TA(cx)} = \\sqrt{c^2x^TAx} = |c|\\sqrt{x^TAx} = |c|\\|x\\|_A\\]\n",
    "\n",
    "3. Triangle inequality: For vectors $x,y$:\n",
    "\\[\\|x+y\\|_A^2 = \\sum_{i=1}^n a_i(x_i+y_i)^2 \\leq \\sum_{i=1}^n a_i(2x_i^2 + 2y_i^2) = 2(\\|x\\|_A^2 + \\|y\\|_A^2)\\]\n",
    "Taking square roots and using $\\sqrt{a+b} \\leq \\sqrt{a} + \\sqrt{b}$:\n",
    "\\[\\|x+y\\|_A \\leq \\|x\\|_A + \\|y\\|_A\\]\n",
    "\n",
    "Therefore, $\\|x\\|_A$ satisfies all properties of a norm.\n",
    "\\end{proof}"
   ],
   "id": "39918b0907eaddb"
  }
 ],
 "metadata": {
  "kernelspec": {
   "display_name": "Python 3",
   "language": "python",
   "name": "python3"
  },
  "language_info": {
   "codemirror_mode": {
    "name": "ipython",
    "version": 2
   },
   "file_extension": ".py",
   "mimetype": "text/x-python",
   "name": "python",
   "nbconvert_exporter": "python",
   "pygments_lexer": "ipython2",
   "version": "2.7.6"
  }
 },
 "nbformat": 4,
 "nbformat_minor": 5
}
