{
 "cells": [
  {
   "cell_type": "code",
   "execution_count": 6,
   "id": "initial_id",
   "metadata": {
    "collapsed": true,
    "ExecuteTime": {
     "end_time": "2024-03-11T03:14:14.574577Z",
     "start_time": "2024-03-11T03:14:14.564632Z"
    }
   },
   "outputs": [
    {
     "ename": "ModuleNotFoundError",
     "evalue": "No module named 'torch'",
     "output_type": "error",
     "traceback": [
      "\u001B[1;31m---------------------------------------------------------------------------\u001B[0m",
      "\u001B[1;31mModuleNotFoundError\u001B[0m                       Traceback (most recent call last)",
      "\u001B[1;32m~\\AppData\\Local\\Temp\\ipykernel_18868\\3354862241.py\u001B[0m in \u001B[0;36m<module>\u001B[1;34m\u001B[0m\n\u001B[1;32m----> 1\u001B[1;33m \u001B[1;32mimport\u001B[0m \u001B[0mtorch\u001B[0m\u001B[1;33m\u001B[0m\u001B[1;33m\u001B[0m\u001B[0m\n\u001B[0m\u001B[0;32m      2\u001B[0m \u001B[1;32mimport\u001B[0m \u001B[0mnumpy\u001B[0m \u001B[1;32mas\u001B[0m \u001B[0mnp\u001B[0m\u001B[1;33m\u001B[0m\u001B[1;33m\u001B[0m\u001B[0m\n\u001B[0;32m      3\u001B[0m \u001B[1;32mimport\u001B[0m \u001B[0mmatplotlib\u001B[0m\u001B[1;33m.\u001B[0m\u001B[0mpyplot\u001B[0m \u001B[1;32mas\u001B[0m \u001B[0mplt\u001B[0m\u001B[1;33m\u001B[0m\u001B[1;33m\u001B[0m\u001B[0m\n",
      "\u001B[1;31mModuleNotFoundError\u001B[0m: No module named 'torch'"
     ]
    }
   ],
   "source": [
    "import torch\n",
    "import numpy as np\n",
    "import matplotlib.pyplot as plt"
   ]
  },
  {
   "cell_type": "code",
   "outputs": [
    {
     "ename": "NameError",
     "evalue": "name 'torch' is not defined",
     "output_type": "error",
     "traceback": [
      "\u001B[1;31m---------------------------------------------------------------------------\u001B[0m",
      "\u001B[1;31mNameError\u001B[0m                                 Traceback (most recent call last)",
      "\u001B[1;32m~\\AppData\\Local\\Temp\\ipykernel_18868\\2144426197.py\u001B[0m in \u001B[0;36m<module>\u001B[1;34m\u001B[0m\n\u001B[0;32m      1\u001B[0m \u001B[1;31m# Generate data samples\u001B[0m\u001B[1;33m\u001B[0m\u001B[1;33m\u001B[0m\u001B[0m\n\u001B[1;32m----> 2\u001B[1;33m \u001B[0mx1\u001B[0m \u001B[1;33m=\u001B[0m \u001B[0mtorch\u001B[0m\u001B[1;33m.\u001B[0m\u001B[0mrandn\u001B[0m\u001B[1;33m(\u001B[0m\u001B[1;36m100\u001B[0m\u001B[1;33m)\u001B[0m\u001B[1;33m\u001B[0m\u001B[1;33m\u001B[0m\u001B[0m\n\u001B[0m\u001B[0;32m      3\u001B[0m \u001B[0mx2\u001B[0m \u001B[1;33m=\u001B[0m \u001B[0mtorch\u001B[0m\u001B[1;33m.\u001B[0m\u001B[0mrandn\u001B[0m\u001B[1;33m(\u001B[0m\u001B[1;36m120\u001B[0m\u001B[1;33m)\u001B[0m\u001B[1;33m\u001B[0m\u001B[1;33m\u001B[0m\u001B[0m\n\u001B[0;32m      4\u001B[0m \u001B[1;33m\u001B[0m\u001B[0m\n\u001B[0;32m      5\u001B[0m \u001B[1;31m# Compute sample sizes\u001B[0m\u001B[1;33m\u001B[0m\u001B[1;33m\u001B[0m\u001B[0m\n",
      "\u001B[1;31mNameError\u001B[0m: name 'torch' is not defined"
     ]
    }
   ],
   "source": [
    "\n",
    "\n",
    "# Generate data samples\n",
    "x1 = torch.randn(100)\n",
    "x2 = torch.randn(120)\n",
    "\n",
    "# Compute sample sizes\n",
    "n1 = len(x1)\n",
    "n2 = len(x2)\n",
    "\n",
    "# Compute initial estimate of the difference in medians\n",
    "th_hat = torch.median(x2) - torch.median(x1)\n",
    "\n",
    "# Number of bootstrap samples\n",
    "B = 1000\n",
    "\n",
    "# Initialize vector for bootstrap samples\n",
    "Tboot = torch.empty(B)\n",
    "\n",
    "# Perform bootstrap resampling\n",
    "for i in range(B):\n",
    "    xx1 = x1[torch.randint(n1, size=(n1,))]  # sample of size n1 with replacement from x1\n",
    "    xx2 = x2[torch.randint(n2, size=(n2,))]  # sample of size n2 with replacement from x2\n",
    "    Tboot[i] = torch.median(xx2) - torch.median(xx1)\n",
    "\n",
    "# Calculate standard error\n",
    "se = torch.sqrt(Tboot.var())\n",
    "\n",
    "# Calculate confidence intervals using normal approximation\n",
    "Normal = (th_hat - 2 * se, th_hat + 2 * se)\n",
    "\n",
    "# Calculate confidence intervals using percentiles\n",
    "percentile = (Tboot.kthvalue(int(0.025 * B)).values, Tboot.kthvalue(int(0.975 * B)).values)\n",
    "\n",
    "# Calculate confidence intervals using pivotal method\n",
    "pivotal = (2 * th_hat - Tboot.kthvalue(int(0.975 * B)).values, 2 * th_hat - Tboot.kthvalue(int(0.025 * B)).values)\n",
    "\n",
    "# Print results\n",
    "print(\"Standard Error:\", se)\n",
    "print(\"Confidence Interval (Normal Approximation):\", Normal)\n",
    "print(\"Confidence Interval (Percentile Method):\", percentile)\n",
    "print(\"Confidence Interval (Pivotal Method):\", pivotal)"
   ],
   "metadata": {
    "collapsed": false,
    "ExecuteTime": {
     "end_time": "2024-03-11T03:14:15.715716Z",
     "start_time": "2024-03-11T03:14:15.700754Z"
    }
   },
   "id": "44a278414a399d5",
   "execution_count": 7
  },
  {
   "cell_type": "code",
   "outputs": [],
   "source": [],
   "metadata": {
    "collapsed": false
   },
   "id": "285a278854c98980"
  }
 ],
 "metadata": {
  "kernelspec": {
   "display_name": "Python 3",
   "language": "python",
   "name": "python3"
  },
  "language_info": {
   "codemirror_mode": {
    "name": "ipython",
    "version": 2
   },
   "file_extension": ".py",
   "mimetype": "text/x-python",
   "name": "python",
   "nbconvert_exporter": "python",
   "pygments_lexer": "ipython2",
   "version": "2.7.6"
  }
 },
 "nbformat": 4,
 "nbformat_minor": 5
}
