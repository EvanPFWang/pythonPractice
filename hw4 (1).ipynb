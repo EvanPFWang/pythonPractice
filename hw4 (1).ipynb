{
  "nbformat": 4,
  "nbformat_minor": 0,
  "metadata": {
    "colab": {
      "provenance": []
    },
    "kernelspec": {
      "name": "python3",
      "display_name": "Python 3"
    },
    "language_info": {
      "name": "python"
    }
  },
  "cells": [
    {
      "cell_type": "code",
      "execution_count": 1,
      "metadata": {
        "id": "zq_eVxumlOgt",
        "colab": {
          "base_uri": "https://localhost:8080/"
        },
        "outputId": "2687d186-5d43-44d1-8415-04f307bd4005"
      },
      "outputs": [
        {
          "output_type": "stream",
          "name": "stdout",
          "text": [
            "Looking in indexes: https://pypi.org/simple, https://us-python.pkg.dev/colab-wheels/public/simple/\n",
            "Collecting pandasql\n",
            "  Downloading pandasql-0.7.3.tar.gz (26 kB)\n",
            "Requirement already satisfied: numpy in /usr/local/lib/python3.8/dist-packages (from pandasql) (1.21.6)\n",
            "Requirement already satisfied: pandas in /usr/local/lib/python3.8/dist-packages (from pandasql) (1.3.5)\n",
            "Requirement already satisfied: sqlalchemy in /usr/local/lib/python3.8/dist-packages (from pandasql) (1.4.44)\n",
            "Requirement already satisfied: pytz>=2017.3 in /usr/local/lib/python3.8/dist-packages (from pandas->pandasql) (2022.6)\n",
            "Requirement already satisfied: python-dateutil>=2.7.3 in /usr/local/lib/python3.8/dist-packages (from pandas->pandasql) (2.8.2)\n",
            "Requirement already satisfied: six>=1.5 in /usr/local/lib/python3.8/dist-packages (from python-dateutil>=2.7.3->pandas->pandasql) (1.15.0)\n",
            "Requirement already satisfied: greenlet!=0.4.17 in /usr/local/lib/python3.8/dist-packages (from sqlalchemy->pandasql) (2.0.1)\n",
            "Building wheels for collected packages: pandasql\n",
            "  Building wheel for pandasql (setup.py) ... \u001b[?25l\u001b[?25hdone\n",
            "  Created wheel for pandasql: filename=pandasql-0.7.3-py3-none-any.whl size=26787 sha256=a8c5cea57a1fd2d56edfee1049fc68a0912228c799bfe9c28094805f712a78b2\n",
            "  Stored in directory: /root/.cache/pip/wheels/ed/8f/46/a383923333728744f01ba24adbd8e364f2cb9470a8b8e5b9ff\n",
            "Successfully built pandasql\n",
            "Installing collected packages: pandasql\n",
            "Successfully installed pandasql-0.7.3\n"
          ]
        }
      ],
      "source": [
        "!pip install pandasql\n"
      ]
    },
    {
      "cell_type": "code",
      "source": [
        "from google.colab import drive\n",
        "drive.mount('/content/drive')"
      ],
      "metadata": {
        "colab": {
          "base_uri": "https://localhost:8080/"
        },
        "id": "eTGmW-rEDbW2",
        "outputId": "13876367-4069-4b6f-a491-4454f635b732"
      },
      "execution_count": 2,
      "outputs": [
        {
          "output_type": "stream",
          "name": "stdout",
          "text": [
            "Mounted at /content/drive\n"
          ]
        }
      ]
    },
    {
      "cell_type": "code",
      "source": [
        "gdrivePath = \"/content/drive/MyDrive/\"\n",
        "import os\n",
        "import pandas as pd\n",
        "import pandasql\n",
        "\n",
        "try:\n",
        "  os.remove(gdrivePath + \"movies.db\")\n",
        "except:\n",
        "  conn1 = sqlite3.connect(gdrivePath+\"movies.db\")\n",
        "\n",
        "def execSQL(conn1,query):\n",
        "  conn1.execute(query) #exeute the SQL query\n",
        "  conn1.commit() # commit the query into the actual database"
      ],
      "metadata": {
        "id": "bjyavp6YFDgj"
      },
      "execution_count": null,
      "outputs": []
    },
    {
      "cell_type": "markdown",
      "source": [
        "creating a Table in a DB\\\n",
        "a table is like a pandas df - with at least one named columns of any one of the five types\n",
        "\\\n",
        "\n",
        "In SQL, a query holds the names of the columns + their types in a CREATE TABLE statement\n",
        "\n",
        "\n",
        "*   name of new table(**req**)\n",
        "*   name of each column in table(**req**)\n",
        "\n",
        "\n",
        "*   type of each column in table(**req**)\n",
        "*   default value per column(**req**)\n",
        " \n",
        "\n",
        "*   PRIMARY KEY - for the table - in one or more columns(*good practice*)\n",
        "*   constraints for columns(UNIQUE or NULL) (*good practice*)\n",
        "\n",
        "\n",
        "```\n",
        "createCMD = '''\n",
        "CREATE TABLE movie (\n",
        "  id integer PRIMARY KEY autoincrement,\n",
        "  title text,\n",
        "  director text,\n",
        "  year text,\n",
        "  runtine integer,\n",
        "  genre text,\n",
        "  budget real,\n",
        "  gross real\n",
        ");\n",
        "\n",
        "#execute\n",
        "execSQL(conn,createCMD)\n",
        "'''\n",
        "```\n",
        "\n",
        "\n",
        "\n",
        "\n",
        "\n",
        "\n"
      ],
      "metadata": {
        "id": "DIsuJp04GR-J"
      }
    },
    {
      "cell_type": "code",
      "source": [
        "createCMD = '''\n",
        "CREATE TABLE movie (\n",
        "  id integer PRIMARY KEY autoincrement,\n",
        "  title text,\n",
        "  director text,\n",
        "  year text,\n",
        "  runtine integer,\n",
        "  genre text,\n",
        "  budget real,\n",
        "  gross real\n",
        ");\n",
        "'''\n",
        "# execute\n",
        "execSQL(conn1,createCMD)\n",
        "def allrowSelect(conn1,query):\n",
        "  cursor = conn1.execute(query)\n",
        "  for row in cursor:\n",
        "    print(row)\n",
        "allrowSelect(conn1,\"select * from pragma_table_info('movie')\")"
      ],
      "metadata": {
        "colab": {
          "base_uri": "https://localhost:8080/"
        },
        "id": "ObDcucpeIP_e",
        "outputId": "130a36ff-4efe-41c0-86a2-94d4eb3803b7"
      },
      "execution_count": null,
      "outputs": [
        {
          "output_type": "stream",
          "name": "stdout",
          "text": [
            "(0, 'id', 'integer', 0, None, 1)\n",
            "(1, 'title', 'text', 0, None, 0)\n",
            "(2, 'director', 'text', 0, None, 0)\n",
            "(3, 'year', 'text', 0, None, 0)\n",
            "(4, 'runtine', 'integer', 0, None, 0)\n",
            "(5, 'genre', 'text', 0, None, 0)\n",
            "(6, 'budget', 'real', 0, None, 0)\n",
            "(7, 'gross', 'real', 0, None, 0)\n"
          ]
        }
      ]
    },
    {
      "cell_type": "markdown",
      "source": [
        "# To query data from SQL - \n",
        " \n",
        "\n",
        "```\n",
        "SELECT [DISTINCT] columns (**req**)\n",
        "  FROM table (**req**)\n",
        "  WHERE condition\n",
        "  GROUP BY columns\n",
        "  HAVING conditions\n",
        "  ORDER BY column[ASC | DESC]\n",
        "  LIMIT offset, count\n",
        "```\n",
        "\n",
        "## Basic\n",
        "\n",
        "```\n",
        "queryBasic = \"select * from movie\"\n",
        "allrowSelect(conn1,queryBasic)\n",
        "```\n",
        "## LIMIT\n",
        "\n",
        "\n",
        "```\n",
        "#select all columns except only the first 8 rows\n",
        "queryLIM = \"select * from movie limit 8\"\n",
        "\n",
        "#select only the title, director, and genre columns with row genres with \"Thriller\" somewhere in it\n",
        "queryLIMcols = \"select title, director, genre, from movie where genre like '%Thriller'\"\n",
        "```\n",
        "\n",
        "\n"
      ],
      "metadata": {
        "id": "Mp2XbrnrJlvq"
      }
    },
    {
      "cell_type": "markdown",
      "source": [],
      "metadata": {
        "id": "Ri3qtuvMLROF"
      }
    },
    {
      "cell_type": "code",
      "source": [],
      "metadata": {
        "id": "guaKwmAsLOi0"
      },
      "execution_count": null,
      "outputs": []
    },
    {
      "cell_type": "markdown",
      "source": [
        "NULL: MISSING DATA\\\n",
        "INTEGER:varialbe # of b depending on value magn\\\n",
        "REAL: flt point value w/ 8 b\\\n",
        "TEXT: string\\\n",
        "BLOB: \"blob\" of data stored exactly as it was input - may store images\n",
        "\\"
      ],
      "metadata": {
        "id": "KUD65kUkBrAn"
      }
    },
    {
      "cell_type": "markdown",
      "source": [
        "1. Using the invoices table, find out the BillingCity in the United Kingdom that has the\n",
        "second most invoices? (Note that the invoices table has orders from many countries.)\n",
        "2. What is the average number of tracks purchased per customer? (Note you can ignore\n",
        "the Quantity field in the invoice_items table which is always one.) Round your answer to\n",
        "two places after the decimal point.\n",
        "3. How many albums have jazz tracks?\n",
        "4. How many comedy tracks were purchased in total? (Note you can ignore the Quantity\n",
        "field in the invoice_items table which is always one.)\n",
        "5. What is the name of the customer who purchased the most Blues tracks?\n",
        "6. On the Grunge playlist, what is the name of the track that comes second\n",
        "alphabetically?\n"
      ],
      "metadata": {
        "id": "2nnlt2zalXS_"
      }
    },
    {
      "cell_type": "markdown",
      "source": [
        "7. How many albums sold more than $20 worth of tracks - you can ignore the Quantity field in the invoice_items table which is always one.\n",
        "8. What is the average number of customers supported by each support rep, rounded to\n",
        "one place after the decimal point? Note that SupportRepid in the Customers table\n",
        "corresponds to Employeeid in the Employees table.\n",
        "9. How many genres had sales exceeding $200?\n",
        "10. What artist has the third most albums in the database?\n",
        "11. Find the names of the tracks on the album \"Fireball\" and put them in alphabetical\n",
        "order. What is the name of the third track (in alphabetical order, not in the order in which\n",
        "they appeared on the album)?\n",
        "12. How many artists in the database do not have any albums in the database?\n",
        "13. What is the name of the second shortest album, in terms of the total milliseconds of\n",
        "its tracks stored in the database?\n",
        "14. Find the number of invoices per billing city. Although there are 53 billing cities in the\n",
        "invoices table, there are are only a few distinct values of invoices per city. What are all\n",
        "of these values?"
      ],
      "metadata": {
        "id": "xc25KKBplfIt"
      }
    },
    {
      "cell_type": "markdown",
      "source": [
        "The questions in this assignment refer to the Chinook database as a\n",
        "SQLite file. It has the following tables:\n",
        "* albums: information about the albums that the store sells individual tracks from\n",
        "* tracks: information about the tracks present in an album like name, genre,\\\n",
        "composer, milliseconds etc.\n",
        "* artists: information about the artists (individual musicians or groups) that made\n",
        "the albums and tracks\n",
        "* customers: information about the customers of the store\n",
        "* employees: information about the employees of the store\n",
        "* genres: information about the musical genres associated with tracks\n",
        "* invoice Items: information about Individual tracks sold, linked to invoices\n",
        "* invoices: information about each sale to a customer of one or more tracks\n",
        "* media types: formats in which tracks are sold\n",
        "* playlists: information about playlists, which each consist of a set of tracks\n",
        "* playlist_track: relationships between playlists and tracks"
      ],
      "metadata": {
        "id": "2mO-ESDxPsBO"
      }
    },
    {
      "cell_type": "code",
      "source": [],
      "metadata": {
        "id": "C4LQaAxV6qck"
      },
      "execution_count": null,
      "outputs": []
    },
    {
      "cell_type": "markdown",
      "source": [
        "# Presets"
      ],
      "metadata": {
        "id": "czhOYVgyNgTp"
      }
    },
    {
      "cell_type": "code",
      "source": [
        "driveP = \"/content/drive/MyDrive/\"\n",
        "import sqlite3\n",
        "import os\n",
        "import pandas as pd\n",
        "import numpy as np\n",
        "\n",
        "import pandasql\n",
        "\n",
        "conn = sqlite3.connect(driveP + \"chinook.db\")\n",
        "def execSQL(conn1,query):\n",
        "  conn1.execute(query) #exeute the SQL query\n",
        "  conn1.commit() # commit the query into the actual database\n",
        "\n",
        "def allrowSelect(conn1,query):\n",
        "  cursor = conn1.execute(query)\n",
        "  for row in cursor:\n",
        "    print(row)\n",
        "\n",
        "def rowSelect(conn1,query, place):\n",
        "  cursor = conn1.execute(query)\n",
        "  cursorInd = 1\n",
        "  for row in cursor:\n",
        "    if cursorInd == place:\n",
        "      print(row)\n",
        "      continue\n",
        "    cursorInd += 1\n",
        "execSQL(conn,\"PRAGMA foreign_keys=ON\")"
      ],
      "metadata": {
        "id": "aVrcgiyIlebR"
      },
      "execution_count": 3,
      "outputs": []
    },
    {
      "cell_type": "code",
      "source": [
        "print(\"---------invoices---------\")\n",
        "allrowSelect(conn,\"select * from pragma_table_info('invoices')\")"
      ],
      "metadata": {
        "id": "rsWj1fXq1NNQ",
        "colab": {
          "base_uri": "https://localhost:8080/"
        },
        "outputId": "c5ed5c68-34d8-494a-9735-ad7b9005d39b"
      },
      "execution_count": null,
      "outputs": [
        {
          "output_type": "stream",
          "name": "stdout",
          "text": [
            "---------invoices---------\n",
            "(0, 'InvoiceId', 'INTEGER', 1, None, 1)\n",
            "(1, 'CustomerId', 'INTEGER', 1, None, 0)\n",
            "(2, 'InvoiceDate', 'DATETIME', 1, None, 0)\n",
            "(3, 'BillingAddress', 'NVARCHAR(70)', 0, None, 0)\n",
            "(4, 'BillingCity', 'NVARCHAR(40)', 0, None, 0)\n",
            "(5, 'BillingState', 'NVARCHAR(40)', 0, None, 0)\n",
            "(6, 'BillingCountry', 'NVARCHAR(40)', 0, None, 0)\n",
            "(7, 'BillingPostalCode', 'NVARCHAR(10)', 0, None, 0)\n",
            "(8, 'Total', 'NUMERIC(10,2)', 1, None, 0)\n"
          ]
        }
      ]
    },
    {
      "cell_type": "code",
      "source": [
        "#Question 1\n",
        "queryQ1 = '''\n",
        "select BillingCity, BillingCountry, count(*) as counts from invoices \n",
        "where BillingCountry = 'United Kingdom' \n",
        "group by BillingCity \n",
        "order by counts desc\n",
        "limit 2'''\n",
        "rowSelect(conn,queryQ1,2)\n",
        "\n"
      ],
      "metadata": {
        "colab": {
          "base_uri": "https://localhost:8080/"
        },
        "id": "9KQLJ4pqibyu",
        "outputId": "ff3fd2e2-847a-4a6d-836e-5fe9fff48fe2"
      },
      "execution_count": 44,
      "outputs": [
        {
          "output_type": "stream",
          "name": "stdout",
          "text": [
            "('Edinburgh ', 'United Kingdom', 7)\n"
          ]
        }
      ]
    },
    {
      "cell_type": "code",
      "source": [
        "print(\"---------invoices---------\")\n",
        "allrowSelect(conn,\"select * from pragma_table_info('invoices')\")\n",
        "print(\"---------invoice_items---------\")\n",
        "allrowSelect(conn,\"select * from pragma_table_info('invoice_items')\")\n"
      ],
      "metadata": {
        "id": "KNjk22_b1QdY",
        "colab": {
          "base_uri": "https://localhost:8080/"
        },
        "outputId": "40c9291f-6886-420e-fb86-1ef5d9c651c4"
      },
      "execution_count": 43,
      "outputs": [
        {
          "output_type": "stream",
          "name": "stdout",
          "text": [
            "---------invoices---------\n",
            "(0, 'InvoiceId', 'INTEGER', 1, None, 1)\n",
            "(1, 'CustomerId', 'INTEGER', 1, None, 0)\n",
            "(2, 'InvoiceDate', 'DATETIME', 1, None, 0)\n",
            "(3, 'BillingAddress', 'NVARCHAR(70)', 0, None, 0)\n",
            "(4, 'BillingCity', 'NVARCHAR(40)', 0, None, 0)\n",
            "(5, 'BillingState', 'NVARCHAR(40)', 0, None, 0)\n",
            "(6, 'BillingCountry', 'NVARCHAR(40)', 0, None, 0)\n",
            "(7, 'BillingPostalCode', 'NVARCHAR(10)', 0, None, 0)\n",
            "(8, 'Total', 'NUMERIC(10,2)', 1, None, 0)\n",
            "---------invoice_items---------\n",
            "(0, 'InvoiceLineId', 'INTEGER', 1, None, 1)\n",
            "(1, 'InvoiceId', 'INTEGER', 1, None, 0)\n",
            "(2, 'TrackId', 'INTEGER', 1, None, 0)\n",
            "(3, 'UnitPrice', 'NUMERIC(10,2)', 1, None, 0)\n",
            "(4, 'Quantity', 'INTEGER', 1, None, 0)\n",
            "(5, 'invoice_items', 'INTEGER', 0, None, 0)\n"
          ]
        }
      ]
    },
    {
      "cell_type": "code",
      "source": [
        "from pandasql import sqldf\n",
        "\n",
        "fullsql = '''\n",
        "select avg(sums) from\n",
        "(select CustomerId, sum(counts) as sums from\n",
        "(select CustomerId, count(*) as counts\n",
        "from invoices\n",
        "inner join invoice_Items on invoices.InvoiceId = invoice_items.InvoiceId group by invoice_items.InvoiceId) group by CustomerId)\n",
        "'''\n",
        "\n",
        "allrowSelect(conn, fullsql)"
      ],
      "metadata": {
        "colab": {
          "base_uri": "https://localhost:8080/"
        },
        "id": "K2r5t9OgpZJ0",
        "outputId": "d71d6465-1c0a-452d-eb67-da0a3af08ff9"
      },
      "execution_count": 42,
      "outputs": [
        {
          "output_type": "stream",
          "name": "stdout",
          "text": [
            "(37.96610169491525,)\n"
          ]
        }
      ]
    },
    {
      "cell_type": "code",
      "source": [
        "#question 2\n",
        "#average number of tracks purchased per customer? Round answer to\n",
        "#two places after the decimal point.\n",
        "from pandasql import sqldf\n",
        "\n",
        "fullsql = '''\n",
        "select avg(sums) from\n",
        "(select CustomerId, sum(counts) as sums from\n",
        "(select CustomerId, count(*) as counts\n",
        "from invoices\n",
        "inner join invoice_Items on invoices.InvoiceId = invoice_items.InvoiceId group by invoice_items.InvoiceId) group by CustomerId)\n",
        "'''\n",
        "\n",
        "allrowSelect(conn, fullsql)"
      ],
      "metadata": {
        "colab": {
          "base_uri": "https://localhost:8080/"
        },
        "id": "JaxPh3mMih22",
        "outputId": "3488daf2-8d78-425d-bfc2-df535330a578"
      },
      "execution_count": 45,
      "outputs": [
        {
          "output_type": "stream",
          "name": "stdout",
          "text": [
            "(37.96610169491525,)\n"
          ]
        }
      ]
    },
    {
      "cell_type": "code",
      "source": [
        "print(\"---------albums---------\")\n",
        "allrowSelect(conn,\"select * from pragma_table_info('albums')\")\n",
        "print(\"---------tracks---------\")\n",
        "allrowSelect(conn,\"select * from pragma_table_info('tracks')\")\n",
        "allrowSelect(conn, \"select count(*) FROM (select distinct AlbumId from tracks WHERE (GenreId==2))\")"
      ],
      "metadata": {
        "colab": {
          "base_uri": "https://localhost:8080/"
        },
        "id": "UaQ6Z4Rmz-6Q",
        "outputId": "5c36d219-78d2-4ce0-e1a1-e04d4e598571"
      },
      "execution_count": 83,
      "outputs": [
        {
          "output_type": "stream",
          "name": "stdout",
          "text": [
            "---------albums---------\n",
            "(0, 'AlbumId', 'INTEGER', 1, None, 1)\n",
            "(1, 'Title', 'NVARCHAR(160)', 1, None, 0)\n",
            "(2, 'ArtistId', 'INTEGER', 1, None, 0)\n",
            "---------tracks---------\n",
            "(0, 'TrackId', 'INTEGER', 1, None, 1)\n",
            "(1, 'Name', 'NVARCHAR(200)', 1, None, 0)\n",
            "(2, 'AlbumId', 'INTEGER', 0, None, 0)\n",
            "(3, 'MediaTypeId', 'INTEGER', 1, None, 0)\n",
            "(4, 'GenreId', 'INTEGER', 0, None, 0)\n",
            "(5, 'Composer', 'NVARCHAR(220)', 0, None, 0)\n",
            "(6, 'Milliseconds', 'INTEGER', 1, None, 0)\n",
            "(7, 'Bytes', 'INTEGER', 0, None, 0)\n",
            "(8, 'UnitPrice', 'NUMERIC(10,2)', 1, None, 0)\n",
            "(13,)\n"
          ]
        }
      ]
    },
    {
      "cell_type": "code",
      "source": [
        "#3. How many albums have jazz tracks? jazz = 2\n",
        "jazzQ = \"select count(*) FROM (select distinct AlbumId from tracks WHERE (GenreId==2))\"\n",
        "allrowSelect(conn, jazzQ)\n",
        "#pd.read_sql_query(jazzQ, conn).size\n",
        "#Answer: 13"
      ],
      "metadata": {
        "id": "Tu-k4Nov1aPi",
        "colab": {
          "base_uri": "https://localhost:8080/"
        },
        "outputId": "e3e25a9e-bde3-4738-b674-532f544c88c9"
      },
      "execution_count": 84,
      "outputs": [
        {
          "output_type": "stream",
          "name": "stdout",
          "text": [
            "(13,)\n"
          ]
        }
      ]
    },
    {
      "cell_type": "code",
      "source": [
        "print(\"---------invoice_items---------\")\n",
        "allrowSelect(conn,\"select * from pragma_table_info('invoice_items')\")\n",
        "print(\"---------tracks---------\")\n",
        "allrowSelect(conn,\"select * from pragma_table_info('tracks')\")\n"
      ],
      "metadata": {
        "colab": {
          "base_uri": "https://localhost:8080/"
        },
        "id": "FFeY0OrD19KQ",
        "outputId": "f3a7ff12-78eb-4dbe-91a8-d572821c9f2a"
      },
      "execution_count": null,
      "outputs": [
        {
          "output_type": "stream",
          "name": "stdout",
          "text": [
            "---------invoice_items---------\n",
            "(0, 'InvoiceLineId', 'INTEGER', 1, None, 1)\n",
            "(1, 'InvoiceId', 'INTEGER', 1, None, 0)\n",
            "(2, 'TrackId', 'INTEGER', 1, None, 0)\n",
            "(3, 'UnitPrice', 'NUMERIC(10,2)', 1, None, 0)\n",
            "(4, 'Quantity', 'INTEGER', 1, None, 0)\n",
            "(5, 'invoice_items', 'INTEGER', 0, None, 0)\n",
            "---------tracks---------\n",
            "(0, 'TrackId', 'INTEGER', 1, None, 1)\n",
            "(1, 'Name', 'NVARCHAR(200)', 1, None, 0)\n",
            "(2, 'AlbumId', 'INTEGER', 0, None, 0)\n",
            "(3, 'MediaTypeId', 'INTEGER', 1, None, 0)\n",
            "(4, 'GenreId', 'INTEGER', 0, None, 0)\n",
            "(5, 'Composer', 'NVARCHAR(220)', 0, None, 0)\n",
            "(6, 'Milliseconds', 'INTEGER', 1, None, 0)\n",
            "(7, 'Bytes', 'INTEGER', 0, None, 0)\n",
            "(8, 'UnitPrice', 'NUMERIC(10,2)', 1, None, 0)\n"
          ]
        }
      ]
    },
    {
      "cell_type": "code",
      "source": [
        "#4. How many comedy tracks were purchased in total? (Note you can ignore the Quantity\n",
        "#field in the invoice_items table which is always one.) 3503\n",
        "\n",
        "\n",
        "fullsql = '''\n",
        "SELECT tracks.TrackId, count(Quantity) as counts\n",
        "\tFROM tracks\n",
        "\tLEFT OUTER JOIN invoice_items on tracks.TrackId = invoice_items.TrackId\n",
        "  WHERE GenreId == 22\n",
        "'''\n",
        "\n",
        "allrowSelect(conn, fullsql)\n",
        "\n",
        "#Answer: 9"
      ],
      "metadata": {
        "id": "iIrAPnuM1iIg",
        "colab": {
          "base_uri": "https://localhost:8080/"
        },
        "outputId": "a93da18a-325b-4066-df72-467477ee01a9"
      },
      "execution_count": 76,
      "outputs": [
        {
          "output_type": "stream",
          "name": "stdout",
          "text": [
            "(3429, 9)\n"
          ]
        }
      ]
    },
    {
      "cell_type": "code",
      "source": [],
      "metadata": {
        "id": "fHprpN_vCel1"
      },
      "execution_count": null,
      "outputs": []
    },
    {
      "cell_type": "code",
      "source": [
        "print(\"---------invoice_items---------\")\n",
        "allrowSelect(conn,\"select * from pragma_table_info('invoice_items')\")\n",
        "print(\"---------genres---------\")\n",
        "allrowSelect(conn,\"select * from pragma_table_info('genres')\")\n",
        "print(\"---------invoices---------\")\n",
        "allrowSelect(conn,\"select * from pragma_table_info('invoices')\")\n",
        "print(\"---------tracks---------\")\n",
        "allrowSelect(conn,\"select * from pragma_table_info('customers')\")\n",
        "allrowSelect(conn, \"SELECT * FROM genres WHERE Name like 'Blues'\")\n",
        "#yields Blues has genreId 6\n",
        "\n"
      ],
      "metadata": {
        "colab": {
          "base_uri": "https://localhost:8080/"
        },
        "id": "OxgqZdgF19nh",
        "outputId": "42b0ade6-c51a-4a86-cb9d-f8d20fb8c913"
      },
      "execution_count": 138,
      "outputs": [
        {
          "output_type": "stream",
          "name": "stdout",
          "text": [
            "---------invoice_items---------\n",
            "(0, 'InvoiceLineId', 'INTEGER', 1, None, 1)\n",
            "(1, 'InvoiceId', 'INTEGER', 1, None, 0)\n",
            "(2, 'TrackId', 'INTEGER', 1, None, 0)\n",
            "(3, 'UnitPrice', 'NUMERIC(10,2)', 1, None, 0)\n",
            "(4, 'Quantity', 'INTEGER', 1, None, 0)\n",
            "(5, 'invoice_items', 'INTEGER', 0, None, 0)\n",
            "---------genres---------\n",
            "(0, 'GenreId', 'INTEGER', 1, None, 1)\n",
            "(1, 'Name', 'NVARCHAR(120)', 0, None, 0)\n",
            "---------invoices---------\n",
            "(0, 'InvoiceId', 'INTEGER', 1, None, 1)\n",
            "(1, 'CustomerId', 'INTEGER', 1, None, 0)\n",
            "(2, 'InvoiceDate', 'DATETIME', 1, None, 0)\n",
            "(3, 'BillingAddress', 'NVARCHAR(70)', 0, None, 0)\n",
            "(4, 'BillingCity', 'NVARCHAR(40)', 0, None, 0)\n",
            "(5, 'BillingState', 'NVARCHAR(40)', 0, None, 0)\n",
            "(6, 'BillingCountry', 'NVARCHAR(40)', 0, None, 0)\n",
            "(7, 'BillingPostalCode', 'NVARCHAR(10)', 0, None, 0)\n",
            "(8, 'Total', 'NUMERIC(10,2)', 1, None, 0)\n",
            "---------tracks---------\n",
            "(0, 'CustomerId', 'INTEGER', 1, None, 1)\n",
            "(1, 'FirstName', 'NVARCHAR(40)', 1, None, 0)\n",
            "(2, 'LastName', 'NVARCHAR(20)', 1, None, 0)\n",
            "(3, 'Company', 'NVARCHAR(80)', 0, None, 0)\n",
            "(4, 'Address', 'NVARCHAR(70)', 0, None, 0)\n",
            "(5, 'City', 'NVARCHAR(40)', 0, None, 0)\n",
            "(6, 'State', 'NVARCHAR(40)', 0, None, 0)\n",
            "(7, 'Country', 'NVARCHAR(40)', 0, None, 0)\n",
            "(8, 'PostalCode', 'NVARCHAR(10)', 0, None, 0)\n",
            "(9, 'Phone', 'NVARCHAR(24)', 0, None, 0)\n",
            "(10, 'Fax', 'NVARCHAR(24)', 0, None, 0)\n",
            "(11, 'Email', 'NVARCHAR(60)', 1, None, 0)\n",
            "(12, 'SupportRepId', 'INTEGER', 0, None, 0)\n",
            "(6, 'Blues')\n"
          ]
        }
      ]
    },
    {
      "cell_type": "code",
      "source": [
        "#5. What is the name of the customer who purchased the most Blues tracks?\n",
        "\n",
        "#Blues GenreId is 6\n",
        "sqlQ = '''\n",
        "\n",
        "SELECT customers.FirstName, LastName FROM\n",
        "(SELECT invoices.CustomerId as customerIDs, sum(invoiceCounts) as customerBlues\n",
        "FROM (SELECT invoice_items.TrackId as genreTracks, InvoiceId as indInvoices, count(*) as invoiceCounts FROM invoice_items \n",
        "INNER JOIN tracks ON genreTracks = tracks.TrackId\n",
        "WHERE GenreId == 6\n",
        "GROUP BY InvoiceId), invoices\n",
        "WHERE invoices.InvoiceId = indInvoices\n",
        "GROUP BY customerIDs\n",
        "ORDER BY customerBlues desc\n",
        "LIMIT 1), customers\n",
        "WHERE customers.CustomerId = customerIDs\n",
        "'''\n",
        "allrowSelect(conn,sqlQ)"
      ],
      "metadata": {
        "colab": {
          "base_uri": "https://localhost:8080/"
        },
        "id": "LXrIWf0P1j_Y",
        "outputId": "c12d1add-f500-409d-f390-6f8f2e283849"
      },
      "execution_count": 147,
      "outputs": [
        {
          "output_type": "stream",
          "name": "stdout",
          "text": [
            "('Leonie', 'Köhler')\n"
          ]
        }
      ]
    },
    {
      "cell_type": "code",
      "source": [
        "print(\"---------playlists---------\")\n",
        "allrowSelect(conn,\"select * from pragma_table_info('playlists')\")\n",
        "print(\"---------playlist_tracks---------\")\n",
        "allrowSelect(conn,\"select * from pragma_table_info('tracks')\")\n",
        "allrowSelect(conn, \"SELECT * FROM playlists WHERE Name like 'Grunge'\")\n",
        "#yields grunge playlistID as 16\n",
        "allrowSelect(conn,\"select * from playlist_track WHERE (PlaylistId==16)\")\n"
      ],
      "metadata": {
        "colab": {
          "base_uri": "https://localhost:8080/"
        },
        "id": "gkxRvNUj1-H4",
        "outputId": "a4b77c77-6ed0-47ce-f861-c5aa525f430b"
      },
      "execution_count": 122,
      "outputs": [
        {
          "output_type": "stream",
          "name": "stdout",
          "text": [
            "---------playlists---------\n",
            "(0, 'PlaylistId', 'INTEGER', 1, None, 1)\n",
            "(1, 'Name', 'NVARCHAR(120)', 0, None, 0)\n",
            "---------playlist_tracks---------\n",
            "(0, 'TrackId', 'INTEGER', 1, None, 1)\n",
            "(1, 'Name', 'NVARCHAR(200)', 1, None, 0)\n",
            "(2, 'AlbumId', 'INTEGER', 0, None, 0)\n",
            "(3, 'MediaTypeId', 'INTEGER', 1, None, 0)\n",
            "(4, 'GenreId', 'INTEGER', 0, None, 0)\n",
            "(5, 'Composer', 'NVARCHAR(220)', 0, None, 0)\n",
            "(6, 'Milliseconds', 'INTEGER', 1, None, 0)\n",
            "(7, 'Bytes', 'INTEGER', 0, None, 0)\n",
            "(8, 'UnitPrice', 'NUMERIC(10,2)', 1, None, 0)\n",
            "(16, 'Grunge')\n",
            "(16, 52)\n",
            "(16, 2003)\n",
            "(16, 2004)\n",
            "(16, 2005)\n",
            "(16, 2007)\n",
            "(16, 2010)\n",
            "(16, 2013)\n",
            "(16, 2194)\n",
            "(16, 2195)\n",
            "(16, 2198)\n",
            "(16, 2206)\n",
            "(16, 2512)\n",
            "(16, 2516)\n",
            "(16, 2550)\n",
            "(16, 3367)\n"
          ]
        }
      ]
    },
    {
      "cell_type": "code",
      "source": [
        "#6. On the Grunge playlist, what is the name of the track that comes second alphabetically?\n",
        "query = '''\n",
        "SELECT grungeTracks, Name\n",
        "FROM (SELECT playlist_track.PlaylistId,TrackId as grungeTracks FROM playlist_track \n",
        "INNER JOIN playlists ON playlist_track.PlaylistId = playlists.PlaylistId\n",
        "WHERE playlist_track.PlaylistId==16), tracks\n",
        "WHERE grungeTracks = tracks.TrackId\n",
        "ORDER BY Name\n",
        "LIMIT 2\n",
        "'''\n",
        "  \n",
        "  #'''LEFT OUTER JOIN playlists WHERE (playlist_track.PlaylistId == playlists.PlaylistId)'''\n",
        "rowSelect(conn,query,2)\n",
        "#'Black Hole Sun'\n"
      ],
      "metadata": {
        "id": "qDKTUJO71lbI",
        "colab": {
          "base_uri": "https://localhost:8080/"
        },
        "outputId": "ad68db40-f73a-417b-d2e5-0fb2b6623dbb"
      },
      "execution_count": 148,
      "outputs": [
        {
          "output_type": "stream",
          "name": "stdout",
          "text": [
            "(2516, 'Black Hole Sun')\n"
          ]
        }
      ]
    },
    {
      "cell_type": "code",
      "source": [
        "print(\"---------invoice_items---------\")\n",
        "allrowSelect(conn,\"select * from pragma_table_info('invoice_items')\")\n",
        "print(\"---------tracks---------\")\n",
        "allrowSelect(conn,\"select * from pragma_table_info('tracks')\")"
      ],
      "metadata": {
        "id": "M_kYvVsS1-qI",
        "colab": {
          "base_uri": "https://localhost:8080/"
        },
        "outputId": "5e44df0e-2b17-4743-e8ea-85ddc5a348fe"
      },
      "execution_count": null,
      "outputs": [
        {
          "output_type": "stream",
          "name": "stdout",
          "text": [
            "---------invoice_items---------\n",
            "(0, 'InvoiceLineId', 'INTEGER', 1, None, 1)\n",
            "(1, 'InvoiceId', 'INTEGER', 1, None, 0)\n",
            "(2, 'TrackId', 'INTEGER', 1, None, 0)\n",
            "(3, 'UnitPrice', 'NUMERIC(10,2)', 1, None, 0)\n",
            "(4, 'Quantity', 'INTEGER', 1, None, 0)\n",
            "(5, 'invoice_items', 'INTEGER', 0, None, 0)\n",
            "---------tracks---------\n",
            "(0, 'TrackId', 'INTEGER', 1, None, 1)\n",
            "(1, 'Name', 'NVARCHAR(200)', 1, None, 0)\n",
            "(2, 'AlbumId', 'INTEGER', 0, None, 0)\n",
            "(3, 'MediaTypeId', 'INTEGER', 1, None, 0)\n",
            "(4, 'GenreId', 'INTEGER', 0, None, 0)\n",
            "(5, 'Composer', 'NVARCHAR(220)', 0, None, 0)\n",
            "(6, 'Milliseconds', 'INTEGER', 1, None, 0)\n",
            "(7, 'Bytes', 'INTEGER', 0, None, 0)\n",
            "(8, 'UnitPrice', 'NUMERIC(10,2)', 1, None, 0)\n"
          ]
        }
      ]
    },
    {
      "cell_type": "code",
      "source": [
        "print(\"---------invoice_items---------\")\n",
        "allrowSelect(conn,\"select * from pragma_table_info('invoice_items')\")\n",
        "print(\"---------tracks---------\")\n",
        "allrowSelect(conn,\"select * from pragma_table_info('tracks')\")\n",
        "allrowSelect(conn,\"select count(*) from albums\")\n",
        "#yields there are 347 albums"
      ],
      "metadata": {
        "colab": {
          "base_uri": "https://localhost:8080/"
        },
        "id": "ylR7I2jVOzz6",
        "outputId": "2c34b09b-25b0-4d67-da9d-72abeee51586"
      },
      "execution_count": null,
      "outputs": [
        {
          "output_type": "stream",
          "name": "stdout",
          "text": [
            "---------invoice_items---------\n",
            "(0, 'InvoiceLineId', 'INTEGER', 1, None, 1)\n",
            "(1, 'InvoiceId', 'INTEGER', 1, None, 0)\n",
            "(2, 'TrackId', 'INTEGER', 1, None, 0)\n",
            "(3, 'UnitPrice', 'NUMERIC(10,2)', 1, None, 0)\n",
            "(4, 'Quantity', 'INTEGER', 1, None, 0)\n",
            "(5, 'invoice_items', 'INTEGER', 0, None, 0)\n",
            "---------tracks---------\n",
            "(0, 'TrackId', 'INTEGER', 1, None, 1)\n",
            "(1, 'Name', 'NVARCHAR(200)', 1, None, 0)\n",
            "(2, 'AlbumId', 'INTEGER', 0, None, 0)\n",
            "(3, 'MediaTypeId', 'INTEGER', 1, None, 0)\n",
            "(4, 'GenreId', 'INTEGER', 0, None, 0)\n",
            "(5, 'Composer', 'NVARCHAR(220)', 0, None, 0)\n",
            "(6, 'Milliseconds', 'INTEGER', 1, None, 0)\n",
            "(7, 'Bytes', 'INTEGER', 0, None, 0)\n",
            "(8, 'UnitPrice', 'NUMERIC(10,2)', 1, None, 0)\n",
            "(347,)\n"
          ]
        }
      ]
    },
    {
      "cell_type": "code",
      "source": [
        "#7. How many albums sold more than $20 worth of tracks - you can ignore the Quantity field in the invoice_items table which is always one.\n",
        "sql = '''\n",
        "SELECT count(*)\n",
        "FROM (\n",
        "SELECT distinct AlbumId, sum(trackTot) as alTot\n",
        "FROM (SELECT TrackId as invTrackId, sum(UnitPrice) as trackTot FROM invoice_items GROUP BY TrackId), tracks\n",
        "WHERE TrackId = invTrackId\n",
        "GROUP BY AlbumId \n",
        ") WHERE alTot>20\n",
        "'''\n",
        "\n",
        "allrowSelect(conn, sql)\n",
        "#Answer is 20"
      ],
      "metadata": {
        "id": "JChguXVy1nPI",
        "colab": {
          "base_uri": "https://localhost:8080/"
        },
        "outputId": "a683d9a0-97b6-42ae-a747-245fe831ab93"
      },
      "execution_count": 153,
      "outputs": [
        {
          "output_type": "stream",
          "name": "stdout",
          "text": [
            "(10,)\n"
          ]
        }
      ]
    },
    {
      "cell_type": "code",
      "source": [
        "print(\"---------customers---------\")\n",
        "allrowSelect(conn,\"select * from pragma_table_info('customers')\")\n",
        "print(\"---------employees---------\")\n",
        "allrowSelect(conn,\"select * from pragma_table_info('employees')\")\n",
        "allrowSelect(conn,\"select * from employees\")"
      ],
      "metadata": {
        "id": "L0xIwZzC1_HY",
        "colab": {
          "base_uri": "https://localhost:8080/"
        },
        "outputId": "1332bd12-ac9c-4fee-aada-595b453712e7"
      },
      "execution_count": null,
      "outputs": [
        {
          "output_type": "stream",
          "name": "stdout",
          "text": [
            "---------customers---------\n",
            "(0, 'CustomerId', 'INTEGER', 1, None, 1)\n",
            "(1, 'FirstName', 'NVARCHAR(40)', 1, None, 0)\n",
            "(2, 'LastName', 'NVARCHAR(20)', 1, None, 0)\n",
            "(3, 'Company', 'NVARCHAR(80)', 0, None, 0)\n",
            "(4, 'Address', 'NVARCHAR(70)', 0, None, 0)\n",
            "(5, 'City', 'NVARCHAR(40)', 0, None, 0)\n",
            "(6, 'State', 'NVARCHAR(40)', 0, None, 0)\n",
            "(7, 'Country', 'NVARCHAR(40)', 0, None, 0)\n",
            "(8, 'PostalCode', 'NVARCHAR(10)', 0, None, 0)\n",
            "(9, 'Phone', 'NVARCHAR(24)', 0, None, 0)\n",
            "(10, 'Fax', 'NVARCHAR(24)', 0, None, 0)\n",
            "(11, 'Email', 'NVARCHAR(60)', 1, None, 0)\n",
            "(12, 'SupportRepId', 'INTEGER', 0, None, 0)\n",
            "---------employees---------\n",
            "(0, 'EmployeeId', 'INTEGER', 1, None, 1)\n",
            "(1, 'LastName', 'NVARCHAR(20)', 1, None, 0)\n",
            "(2, 'FirstName', 'NVARCHAR(20)', 1, None, 0)\n",
            "(3, 'Title', 'NVARCHAR(30)', 0, None, 0)\n",
            "(4, 'ReportsTo', 'INTEGER', 0, None, 0)\n",
            "(5, 'BirthDate', 'DATETIME', 0, None, 0)\n",
            "(6, 'HireDate', 'DATETIME', 0, None, 0)\n",
            "(7, 'Address', 'NVARCHAR(70)', 0, None, 0)\n",
            "(8, 'City', 'NVARCHAR(40)', 0, None, 0)\n",
            "(9, 'State', 'NVARCHAR(40)', 0, None, 0)\n",
            "(10, 'Country', 'NVARCHAR(40)', 0, None, 0)\n",
            "(11, 'PostalCode', 'NVARCHAR(10)', 0, None, 0)\n",
            "(12, 'Phone', 'NVARCHAR(24)', 0, None, 0)\n",
            "(13, 'Fax', 'NVARCHAR(24)', 0, None, 0)\n",
            "(14, 'Email', 'NVARCHAR(60)', 0, None, 0)\n",
            "(1, 'Adams', 'Andrew', 'General Manager', None, '1962-02-18 00:00:00', '2002-08-14 00:00:00', '11120 Jasper Ave NW', 'Edmonton', 'AB', 'Canada', 'T5K 2N1', '+1 (780) 428-9482', '+1 (780) 428-3457', 'andrew@chinookcorp.com')\n",
            "(2, 'Edwards', 'Nancy', 'Sales Manager', 1, '1958-12-08 00:00:00', '2002-05-01 00:00:00', '825 8 Ave SW', 'Calgary', 'AB', 'Canada', 'T2P 2T3', '+1 (403) 262-3443', '+1 (403) 262-3322', 'nancy@chinookcorp.com')\n",
            "(3, 'Peacock', 'Jane', 'Sales Support Agent', 2, '1973-08-29 00:00:00', '2002-04-01 00:00:00', '1111 6 Ave SW', 'Calgary', 'AB', 'Canada', 'T2P 5M5', '+1 (403) 262-3443', '+1 (403) 262-6712', 'jane@chinookcorp.com')\n",
            "(4, 'Park', 'Margaret', 'Sales Support Agent', 2, '1947-09-19 00:00:00', '2003-05-03 00:00:00', '683 10 Street SW', 'Calgary', 'AB', 'Canada', 'T2P 5G3', '+1 (403) 263-4423', '+1 (403) 263-4289', 'margaret@chinookcorp.com')\n",
            "(5, 'Johnson', 'Steve', 'Sales Support Agent', 2, '1965-03-03 00:00:00', '2003-10-17 00:00:00', '7727B 41 Ave', 'Calgary', 'AB', 'Canada', 'T3B 1Y7', '1 (780) 836-9987', '1 (780) 836-9543', 'steve@chinookcorp.com')\n",
            "(6, 'Mitchell', 'Michael', 'IT Manager', 1, '1973-07-01 00:00:00', '2003-10-17 00:00:00', '5827 Bowness Road NW', 'Calgary', 'AB', 'Canada', 'T3B 0C5', '+1 (403) 246-9887', '+1 (403) 246-9899', 'michael@chinookcorp.com')\n",
            "(7, 'King', 'Robert', 'IT Staff', 6, '1970-05-29 00:00:00', '2004-01-02 00:00:00', '590 Columbia Boulevard West', 'Lethbridge', 'AB', 'Canada', 'T1K 5N8', '+1 (403) 456-9986', '+1 (403) 456-8485', 'robert@chinookcorp.com')\n",
            "(8, 'Callahan', 'Laura', 'IT Staff', 6, '1968-01-09 00:00:00', '2004-03-04 00:00:00', '923 7 ST NW', 'Lethbridge', 'AB', 'Canada', 'T1H 1Y8', '+1 (403) 467-3351', '+1 (403) 467-8772', 'laura@chinookcorp.com')\n"
          ]
        }
      ]
    },
    {
      "cell_type": "code",
      "source": [
        "#8. What is the average number of customers supported by each support rep, rounded to\n",
        "#one place after the decimal point? Note that SupportRepid in the Customers table= Employeeid in the Employees table.\n",
        "aggRepCounts = '''\n",
        "SELECT avg(counts) FROM (SELECT distinct SupportRepId, count(*) as counts\n",
        "FROM customers\n",
        "GROUP BY SupportRepId)\n",
        "'''\n",
        "allrowSelect(conn,aggRepCounts)"
      ],
      "metadata": {
        "id": "ka8JvlgY1uSh",
        "colab": {
          "base_uri": "https://localhost:8080/"
        },
        "outputId": "833b54b6-95bd-4e46-e29c-842f179322d7"
      },
      "execution_count": 154,
      "outputs": [
        {
          "output_type": "stream",
          "name": "stdout",
          "text": [
            "(19.666666666666668,)\n"
          ]
        }
      ]
    },
    {
      "cell_type": "code",
      "source": [
        "print(\"---------invoice_items---------\")\n",
        "allrowSelect(conn,\"select * from pragma_table_info('invoice_items')\")\n",
        "print(\"---------tracks---------\")\n",
        "allrowSelect(conn,\"select * from pragma_table_info('tracks')\")\n"
      ],
      "metadata": {
        "id": "P9_L6ohS1_1Q",
        "colab": {
          "base_uri": "https://localhost:8080/"
        },
        "outputId": "79f577d0-207e-42d4-cea0-decef53e17ef"
      },
      "execution_count": null,
      "outputs": [
        {
          "output_type": "stream",
          "name": "stdout",
          "text": [
            "---------invoice_items---------\n",
            "(0, 'InvoiceLineId', 'INTEGER', 1, None, 1)\n",
            "(1, 'InvoiceId', 'INTEGER', 1, None, 0)\n",
            "(2, 'TrackId', 'INTEGER', 1, None, 0)\n",
            "(3, 'UnitPrice', 'NUMERIC(10,2)', 1, None, 0)\n",
            "(4, 'Quantity', 'INTEGER', 1, None, 0)\n",
            "(5, 'invoice_items', 'INTEGER', 0, None, 0)\n",
            "---------tracks---------\n",
            "(0, 'TrackId', 'INTEGER', 1, None, 1)\n",
            "(1, 'Name', 'NVARCHAR(200)', 1, None, 0)\n",
            "(2, 'AlbumId', 'INTEGER', 0, None, 0)\n",
            "(3, 'MediaTypeId', 'INTEGER', 1, None, 0)\n",
            "(4, 'GenreId', 'INTEGER', 0, None, 0)\n",
            "(5, 'Composer', 'NVARCHAR(220)', 0, None, 0)\n",
            "(6, 'Milliseconds', 'INTEGER', 1, None, 0)\n",
            "(7, 'Bytes', 'INTEGER', 0, None, 0)\n",
            "(8, 'UnitPrice', 'NUMERIC(10,2)', 1, None, 0)\n"
          ]
        },
        {
          "output_type": "execute_result",
          "data": {
            "text/plain": [
              "array([ True, False,  True,  True, False, False,  True, False, False,\n",
              "       False, False, False, False, False, False, False, False, False,\n",
              "       False, False, False, False, False, False, False])"
            ]
          },
          "metadata": {},
          "execution_count": 291
        }
      ]
    },
    {
      "cell_type": "code",
      "source": [
        "#9. How many genres had sales exceeding $200?\n",
        "\n",
        "sql = '''\n",
        "SELECT count(*)\n",
        "FROM (\n",
        "SELECT distinct GenreId, sum(trackTot) as alTot\n",
        "FROM (SELECT TrackId as invTrackId, sum(UnitPrice) as trackTot FROM invoice_items GROUP BY TrackId), tracks\n",
        "WHERE TrackId = invTrackId\n",
        "GROUP BY GenreId \n",
        ") WHERE alTot>200'''\n",
        "\n",
        "allrowSelect(conn,sql)\n",
        "\n",
        "#Answer 4"
      ],
      "metadata": {
        "id": "nusd_ZF21v-I",
        "colab": {
          "base_uri": "https://localhost:8080/"
        },
        "outputId": "5a473847-912e-415c-a9f6-427b9ef1b68b"
      },
      "execution_count": 220,
      "outputs": [
        {
          "output_type": "stream",
          "name": "stdout",
          "text": [
            "(4,)\n"
          ]
        }
      ]
    },
    {
      "cell_type": "code",
      "source": [
        "print(\"---------albums---------\")\n",
        "allrowSelect(conn,\"select * from pragma_table_info('albums')\")\n",
        "print(\"---------artists---------\")\n",
        "allrowSelect(conn,\"select * from pragma_table_info('artists')\")"
      ],
      "metadata": {
        "colab": {
          "base_uri": "https://localhost:8080/"
        },
        "id": "cSZ2WekSmvf5",
        "outputId": "b499b6e6-a2c1-4f6b-b624-3a7217c3d91f"
      },
      "execution_count": 217,
      "outputs": [
        {
          "output_type": "stream",
          "name": "stdout",
          "text": [
            "---------albums---------\n",
            "(0, 'AlbumId', 'INTEGER', 1, None, 1)\n",
            "(1, 'Title', 'NVARCHAR(160)', 1, None, 0)\n",
            "(2, 'ArtistId', 'INTEGER', 1, None, 0)\n",
            "---------artists---------\n",
            "(0, 'ArtistId', 'INTEGER', 1, None, 1)\n",
            "(1, 'Name', 'NVARCHAR(120)', 0, None, 0)\n"
          ]
        }
      ]
    },
    {
      "cell_type": "code",
      "source": [
        "#10. What artist has the third most albums in the database?\n",
        "album_art_q = '''\n",
        "SELECT Name FROM (SELECT ArtistId as lastone, count(*) as counts \n",
        "FROM albums \n",
        "GROUP BY ArtistId ORDER BY counts desc\n",
        "LIMIT 3 OFFSET 2) \n",
        "INNER JOIN artists ON lastone = artists.ArtistId\n",
        "LIMIT 1\n",
        "'''\n",
        "#yields artist 66\n",
        "\n",
        "\n",
        "artist66 = '''\n",
        "SELECT * FROM artists \n",
        "WHERE (ArtistId==66)\n",
        "'''\n",
        "allrowSelect(conn,album_art_q)"
      ],
      "metadata": {
        "id": "95qCRBs91xyJ",
        "colab": {
          "base_uri": "https://localhost:8080/"
        },
        "outputId": "a75cd3aa-5594-4e28-92e4-b95875dbcbff"
      },
      "execution_count": 218,
      "outputs": [
        {
          "output_type": "stream",
          "name": "stdout",
          "text": [
            "('Deep Purple',)\n"
          ]
        }
      ]
    },
    {
      "cell_type": "code",
      "source": [
        "print(\"---------tracks---------\")\n",
        "allrowSelect(conn,\"select * from pragma_table_info('tracks')\")\n",
        "print(\"---------albums---------\")\n",
        "allrowSelect(conn,\"select * from pragma_table_info('albums')\")\n",
        "#yields album id as 60\n",
        "allrowSelect(conn,\"select * FROM albums WHERE (Title=='Fireball')\")\n"
      ],
      "metadata": {
        "id": "3BCsfyCd2A1g",
        "colab": {
          "base_uri": "https://localhost:8080/"
        },
        "outputId": "45a68ef3-ecda-4285-8635-34fed176b906"
      },
      "execution_count": null,
      "outputs": [
        {
          "output_type": "stream",
          "name": "stdout",
          "text": [
            "---------tracks---------\n",
            "(0, 'TrackId', 'INTEGER', 1, None, 1)\n",
            "(1, 'Name', 'NVARCHAR(200)', 1, None, 0)\n",
            "(2, 'AlbumId', 'INTEGER', 0, None, 0)\n",
            "(3, 'MediaTypeId', 'INTEGER', 1, None, 0)\n",
            "(4, 'GenreId', 'INTEGER', 0, None, 0)\n",
            "(5, 'Composer', 'NVARCHAR(220)', 0, None, 0)\n",
            "(6, 'Milliseconds', 'INTEGER', 1, None, 0)\n",
            "(7, 'Bytes', 'INTEGER', 0, None, 0)\n",
            "(8, 'UnitPrice', 'NUMERIC(10,2)', 1, None, 0)\n",
            "---------albums---------\n",
            "(0, 'AlbumId', 'INTEGER', 1, None, 1)\n",
            "(1, 'Title', 'NVARCHAR(160)', 1, None, 0)\n",
            "(2, 'ArtistId', 'INTEGER', 1, None, 0)\n",
            "(60, 'Fireball', 58)\n"
          ]
        }
      ]
    },
    {
      "cell_type": "code",
      "source": [
        "#11. Find the names of the tracks on the album \"Fireball\" and put them in alphabetical\n",
        "#order. What is the name of the third track (in alphabetical order, not in the order in which\n",
        "#they appeared on the album)?\n",
        "fBall_q = '''\n",
        "SELECT Name\n",
        "FROM tracks\n",
        "WHERE (AlbumId==60)\n",
        "ORDER BY Name\n",
        "'''\n",
        "allrowSelect(conn, fBall_q)"
      ],
      "metadata": {
        "id": "uFGB6jww1zS5",
        "colab": {
          "base_uri": "https://localhost:8080/"
        },
        "outputId": "3e5567c6-9e46-4483-c646-133d3740d3be"
      },
      "execution_count": 94,
      "outputs": [
        {
          "output_type": "stream",
          "name": "stdout",
          "text": [
            "(\"Anyone's Daughter\",)\n",
            "('Fireball',)\n",
            "('Fools',)\n",
            "('No No No',)\n",
            "('No One Came',)\n",
            "('Strange Kind Of Woman',)\n",
            "('The Mule',)\n"
          ]
        }
      ]
    },
    {
      "cell_type": "markdown",
      "source": [
        "(\"Anyone's Daughter\",)\n",
        "('Fireball',)\n",
        "('Fools',)\n",
        "('No No No',)\n",
        "('No One Came',)\n",
        "('Strange Kind Of Woman',)\n",
        "('The Mule',)"
      ],
      "metadata": {
        "id": "bzEIjOEWqKu3"
      }
    },
    {
      "cell_type": "code",
      "source": [
        "#print(\"---------albums---------\")\n",
        "allrowSelect(conn,\"select * from pragma_table_info('albums')\")\n",
        "album_art_q = '''\n",
        "SELECT count(*)\n",
        "FROM artists\n",
        "'''\n",
        "#yields that there exist 275 artists\n",
        "allrowSelect(conn,\"SELECT * from albums WHERE ArtistId = 47\")"
      ],
      "metadata": {
        "id": "7SthMqVN2Ba4",
        "colab": {
          "base_uri": "https://localhost:8080/"
        },
        "outputId": "ab123c6b-41c3-4bdb-c15e-9b66aef244a6"
      },
      "execution_count": 207,
      "outputs": [
        {
          "output_type": "stream",
          "name": "stdout",
          "text": [
            "(0, 'AlbumId', 'INTEGER', 1, None, 1)\n",
            "(1, 'Title', 'NVARCHAR(160)', 1, None, 0)\n",
            "(2, 'ArtistId', 'INTEGER', 1, None, 0)\n"
          ]
        }
      ]
    },
    {
      "cell_type": "code",
      "source": [
        "#12. How many artists in the database do not have any albums in the database?\n",
        "\n",
        "album_art_q = '''\n",
        "Select count(*) from artists\n",
        "left join albums on artists.ArtistId = albums.ArtistId\n",
        "where albums.ArtistId is null\n",
        "'''\n",
        "\n",
        "allrowSelect(conn, album_art_q)\n",
        "#answer 71\n"
      ],
      "metadata": {
        "id": "SPp1aA51118b",
        "colab": {
          "base_uri": "https://localhost:8080/"
        },
        "outputId": "616fa7a4-eb1d-47ed-cfa3-c6955b72ad2c"
      },
      "execution_count": 208,
      "outputs": [
        {
          "output_type": "stream",
          "name": "stdout",
          "text": [
            "(71,)\n"
          ]
        }
      ]
    },
    {
      "cell_type": "code",
      "source": [
        "print(\"---------tracks---------\")\n",
        "allrowSelect(conn,\"select * from pragma_table_info('tracks')\")\n",
        "print(\"---------albums---------\")\n",
        "allrowSelect(conn,\"select * from pragma_table_info('albums')\")\n"
      ],
      "metadata": {
        "id": "5ZsuGNP72B55",
        "colab": {
          "base_uri": "https://localhost:8080/"
        },
        "outputId": "1035583d-ada7-46c2-dbb4-464581c7dc1a"
      },
      "execution_count": null,
      "outputs": [
        {
          "output_type": "stream",
          "name": "stdout",
          "text": [
            "---------tracks---------\n",
            "(0, 'TrackId', 'INTEGER', 1, None, 1)\n",
            "(1, 'Name', 'NVARCHAR(200)', 1, None, 0)\n",
            "(2, 'AlbumId', 'INTEGER', 0, None, 0)\n",
            "(3, 'MediaTypeId', 'INTEGER', 1, None, 0)\n",
            "(4, 'GenreId', 'INTEGER', 0, None, 0)\n",
            "(5, 'Composer', 'NVARCHAR(220)', 0, None, 0)\n",
            "(6, 'Milliseconds', 'INTEGER', 1, None, 0)\n",
            "(7, 'Bytes', 'INTEGER', 0, None, 0)\n",
            "(8, 'UnitPrice', 'NUMERIC(10,2)', 1, None, 0)\n",
            "---------albums---------\n",
            "(0, 'AlbumId', 'INTEGER', 1, None, 1)\n",
            "(1, 'Title', 'NVARCHAR(160)', 1, None, 0)\n",
            "(2, 'ArtistId', 'INTEGER', 1, None, 0)\n"
          ]
        }
      ]
    },
    {
      "cell_type": "code",
      "source": [
        "#13. What is the name of the second shortest album, in terms of the total milliseconds of\n",
        "#its tracks stored in the database?\n",
        "\n",
        "album_art_q = '''\n",
        "SELECT Name FROM (SELECT distinct Name, AlbumId, sum(Milliseconds) as al_length\n",
        "FROM tracks \n",
        "GROUP BY AlbumId \n",
        "ORDER BY al_length \n",
        "LIMIT 2 OFFSET 1) LIMIT 1\n",
        "'''\n",
        "#yields artist 66\n",
        "\n",
        "allrowSelect(conn,album_art_q)"
      ],
      "metadata": {
        "id": "06ihKSja134I",
        "colab": {
          "base_uri": "https://localhost:8080/"
        },
        "outputId": "05ef41ad-65f4-4e77-e3fc-69e64174ad35"
      },
      "execution_count": 168,
      "outputs": [
        {
          "output_type": "stream",
          "name": "stdout",
          "text": [
            "(\"L'orfeo, Act 3, Sinfonia (Orchestra)\",)\n"
          ]
        }
      ]
    },
    {
      "cell_type": "code",
      "source": [
        "print(\"---------invoices---------\")\n",
        "allrowSelect(conn,\"select * from pragma_table_info('invoices')\")"
      ],
      "metadata": {
        "id": "9IH2atNu2CgZ"
      },
      "execution_count": null,
      "outputs": []
    },
    {
      "cell_type": "code",
      "source": [
        "#14. Find the number of invoices per billing city. Although there are 53 billing cities in the\n",
        "#invoices table, there are are only a few distinct values of invoices per city. What are all\n",
        "#of these values?\n",
        "invQ = '''SELECT distinct counts FROM (\n",
        "SELECT distinct count(*) as counts, BillingCity\n",
        "FROM invoices\n",
        "GROUP BY BillingCity)\n",
        "'''\n",
        "allrowSelect(conn, invQ)\n"
      ],
      "metadata": {
        "id": "VVM9NRQr157w",
        "colab": {
          "base_uri": "https://localhost:8080/"
        },
        "outputId": "4bef2622-e489-45fc-9e79-ae380f28757f"
      },
      "execution_count": 174,
      "outputs": [
        {
          "output_type": "stream",
          "name": "stdout",
          "text": [
            "(7,)\n",
            "(6,)\n",
            "(14,)\n"
          ]
        }
      ]
    },
    {
      "cell_type": "code",
      "source": [],
      "metadata": {
        "id": "NAYW94082C_B"
      },
      "execution_count": null,
      "outputs": []
    },
    {
      "cell_type": "markdown",
      "source": [
        "\n",
        "\n",
        "```\n",
        "SELECT [DISTINCT] columns (**req**)\n",
        "  FROM table (**req**)\n",
        "  WHERE condition\n",
        "  GROUP BY columns\n",
        "  HAVING conditions\n",
        "  ORDER BY column[ASC | DESC]\n",
        "  LIMIT offset, count\n",
        "  \n",
        "  \n",
        "  \n",
        "CREATE TABLE movie (\n",
        "    id integer PRIMARY KEY autoincrement,\n",
        "    title text,\n",
        "    director text,\n",
        "    year text,\n",
        "    runtime integer,\n",
        "    genre text,\n",
        "    budget real,\n",
        "    gross real\n",
        ");\n",
        "  ```\n",
        "\n"
      ],
      "metadata": {
        "id": "nwCeeFK4R6YJ"
      }
    },
    {
      "cell_type": "code",
      "source": [],
      "metadata": {
        "id": "MXY1KOg4NfI5"
      },
      "execution_count": null,
      "outputs": []
    }
  ]
}